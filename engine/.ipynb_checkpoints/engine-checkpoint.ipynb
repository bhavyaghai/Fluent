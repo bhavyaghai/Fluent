{
 "cells": [
  {
   "cell_type": "code",
   "execution_count": 19,
   "metadata": {},
   "outputs": [],
   "source": [
    "# usage: python similarity.py cmudict-0.7b-simvecs\n",
    "# reads a single line of standard input, displays the most similar items\n",
    "# found in cmudict-0.7b-simvecs\n",
    "import sys\n",
    "from annoy import AnnoyIndex\n",
    "\n",
    "from scipy.spatial.distance import cosine\n",
    "from sklearn import svm\n",
    "import numpy as np"
   ]
  },
  {
   "cell_type": "code",
   "execution_count": 2,
   "metadata": {},
   "outputs": [],
   "source": [
    "# given two words 'string' -> returns their phonetic similarity\n",
    "def pcosine(w1, w2):\n",
    "    w1, w2 = w1.upper(), w2.upper()\n",
    "    return 1-cosine(lookup[w1], lookup[w2])"
   ]
  },
  {
   "cell_type": "code",
   "execution_count": 3,
   "metadata": {},
   "outputs": [
    {
     "name": "stderr",
     "output_type": "stream",
     "text": [
      "loading...\n",
      "done.\n"
     ]
    }
   ],
   "source": [
    "t = AnnoyIndex(50, metric='angular')\n",
    "words = list()\n",
    "lookup = dict()\n",
    "\n",
    "print(\"loading...\", file=sys.stderr)\n",
    "for i, line in enumerate(open(\"../data/cmudict-0.7b-simvecs\", encoding=\"latin1\")):\n",
    "    line = line.strip()\n",
    "    word, vec_s = line.split(\"  \")\n",
    "    vec = [float(n) for n in vec_s.split()]\n",
    "    t.add_item(i, vec)\n",
    "    lookup[word] = vec\n",
    "    words.append(word)\n",
    "t.build(50)\n",
    "print(\"done.\", file=sys.stderr)"
   ]
  },
  {
   "cell_type": "code",
   "execution_count": 4,
   "metadata": {},
   "outputs": [
    {
     "data": {
      "text/plain": [
       "133859"
      ]
     },
     "execution_count": 4,
     "metadata": {},
     "output_type": "execute_result"
    }
   ],
   "source": [
    "# number of words in phonetic dictionary\n",
    "len(lookup)"
   ]
  },
  {
   "cell_type": "code",
   "execution_count": 5,
   "metadata": {},
   "outputs": [
    {
     "data": {
      "text/plain": [
       "['GRAEF(1)', 'GRAEFE(1)', 'GRAEFF(1)', 'GRAF', 'GRAFF']"
      ]
     },
     "execution_count": 5,
     "metadata": {},
     "output_type": "execute_result"
    }
   ],
   "source": [
    "w = \"graph\".upper()\n",
    "vec = lookup[w]\n",
    "num_neigh = 5\n",
    "[words[i] for i in t.get_nns_by_vector(vec, num_neigh)]"
   ]
  },
  {
   "cell_type": "code",
   "execution_count": 6,
   "metadata": {},
   "outputs": [
    {
     "data": {
      "text/plain": [
       "0.4266593016705489"
      ]
     },
     "execution_count": 6,
     "metadata": {},
     "output_type": "execute_result"
    }
   ],
   "source": [
    "pcosine(\"he\", \"she\")"
   ]
  },
  {
   "cell_type": "code",
   "execution_count": 7,
   "metadata": {},
   "outputs": [
    {
     "data": {
      "text/plain": [
       "0.020586781508952656"
      ]
     },
     "execution_count": 7,
     "metadata": {},
     "output_type": "execute_result"
    }
   ],
   "source": [
    "pcosine(\"cat\",\"banter\")"
   ]
  },
  {
   "cell_type": "markdown",
   "metadata": {},
   "source": [
    "# Train classifier to segregate easy/difficult words"
   ]
  },
  {
   "cell_type": "code",
   "execution_count": 10,
   "metadata": {},
   "outputs": [],
   "source": [
    "easy = \"cat,rat,mat,bat,chair,table,mathematics,science,apple,banana,laptop,shirt,fan,book,boy,he,female,male\".split(\",\")\n",
    "difficult = \"Graph,Group,Trivedi,Green,Grand,Provost,Printer,Alaska,Close,Italy\".split(\",\")\n",
    "\n",
    "X, y = [], []\n",
    "for w in easy:\n",
    "    word = w.upper()\n",
    "    if word in lookup:\n",
    "        X.append(lookup[word])\n",
    "        y.append(0)\n",
    "        \n",
    "for w in difficult:\n",
    "    word = w.upper()\n",
    "    if word in lookup:\n",
    "        X.append(lookup[word])\n",
    "        y.append(1)"
   ]
  },
  {
   "cell_type": "code",
   "execution_count": 35,
   "metadata": {},
   "outputs": [
    {
     "data": {
      "text/plain": [
       "SVC(C=1.0, break_ties=False, cache_size=200, class_weight=None, coef0=0.0,\n",
       "    decision_function_shape='ovr', degree=3, gamma='scale', kernel='rbf',\n",
       "    max_iter=-1, probability=True, random_state=None, shrinking=True, tol=0.001,\n",
       "    verbose=False)"
      ]
     },
     "execution_count": 35,
     "metadata": {},
     "output_type": "execute_result"
    }
   ],
   "source": [
    "clf = svm.SVC(probability=True)\n",
    "clf.fit(X, y)"
   ]
  },
  {
   "cell_type": "code",
   "execution_count": null,
   "metadata": {},
   "outputs": [],
   "source": [
    "pred = clf.predict_proba(list(lookup.values()))"
   ]
  },
  {
   "cell_type": "code",
   "execution_count": 47,
   "metadata": {},
   "outputs": [
    {
     "data": {
      "text/plain": [
       "(1382,)"
      ]
     },
     "execution_count": 47,
     "metadata": {},
     "output_type": "execute_result"
    }
   ],
   "source": [
    "res_words = np.array(list(lookup.keys()))[pred[:,1]>0.95]\n",
    "res_words.shape"
   ]
  },
  {
   "cell_type": "code",
   "execution_count": 48,
   "metadata": {},
   "outputs": [
    {
     "data": {
      "text/plain": [
       "array(['\"CLOSE-QUOTE', '+PLUS', 'AARDVARKS', 'ACCUMULATIVELY(1)',\n",
       "       'ACCUSINGLY', 'ACREE', 'ACUTELY', 'AGGRIEVE', 'AGREES', 'AGRUSA',\n",
       "       'AHLGRIM', 'AIRCREW', 'ALASKA', 'ALEGRE', 'ALEKSANDER',\n",
       "       'ALEKSANDR', 'ALEX', 'ALEXANDRA(1)', 'ALEXANDRINE', 'ALEXANDRINES',\n",
       "       'ALEXS', 'ALKALI', 'ALLOGRAPH', 'AMBROSINE', 'AMBROSINI',\n",
       "       'ANCHOVIES', 'ANCHOVIES(1)', 'ANDREY', 'ANDRY', 'ANGLOPHONE',\n",
       "       'ANGLOPHONES', 'ANGLOS(1)', 'ANGRILY', 'APPRECIATIVELY(1)',\n",
       "       'APPROVINGLY', 'ARCHITRAVE', 'ARDINE', 'ARGENBRIGHT', 'ARGUES',\n",
       "       'ARMBRISTER(1)', 'ARMBRUSTER(1)', 'ARQUILLA', 'ATTRACTIVELY',\n",
       "       'BELGRAVE', 'BLANDFORD', \"BLANKLY'S\", 'BLEAKNEY', 'BLITZKRIEG',\n",
       "       'BLUEPRINT', 'BLUEPRINTS', 'BRACKNEY', 'BRADFIELD', 'BRADLEES',\n",
       "       \"BRADLEY'S\", 'BRADLEYS', 'BRADNEY', 'BRAENDSTROEM', 'BRAINTREE',\n",
       "       'BRAND', \"BRAND'S\", 'BRAND-NEW', 'BRANDE', 'BRANDER', 'BRANDES',\n",
       "       'BRANDI', 'BRANDIS', 'BRANDISH', 'BRANDNER', 'BRANDNEW', 'BRANDS',\n",
       "       \"BRANDS'\", \"BRANDS'S\", 'BRANDT', 'BRANDTNER', 'BRANDVOLD',\n",
       "       'BRANDY', 'BRANIFF', \"BRANK'S\", 'BRANKS', 'BRANSFIELD', 'BRANT',\n",
       "       'BRANTLEY', 'BRANTLY', 'BRANTNER', \"BRASSO'S\", 'BRAVE',\n",
       "       'BRAVEHEART', 'BRAZOS', 'BREACH', 'BREACHED', 'BREAN', 'BREAZEALE',\n",
       "       'BREDE', 'BREECE', 'BREECH', 'BREED', \"BREED'S\", 'BREEDER',\n",
       "       'BREEDLOVE', 'BREEDS', 'BREELAND', 'BREEN', 'BREES', 'BREESE',\n",
       "       'BREEZE', 'BREEZES', 'BREEZY', 'BREGE', 'BRENER', 'BRENES',\n",
       "       'BREWSTER', 'BRIARCLIFF', 'BRICKLEY', \"BRICKLIN'S\", 'BRIDEGROOM',\n",
       "       \"BRIDEGROOM'S\", 'BRIDGEFORD', 'BRIEF', 'BRIEFLY', 'BRIEL',\n",
       "       'BRIESE', 'BRINDLEY', 'BRINKLEY', \"BRINKLEY'S\", 'BRINKLY',\n",
       "       'BRINSER', 'BRINSFIELD', 'BRISKET', 'BRISKLY', 'BRISTER', 'BRITA',\n",
       "       'BRITNEY', \"BRITNEY'S\", 'BRIZENDINE', 'BRIZOLA', 'BRIZZI',\n",
       "       'BROACHED', 'BROCE', 'BROKERAGE(1)', 'BROOCH', 'BROOKHART',\n",
       "       'BROUSSEAU', 'BRUCE', 'BRUCKNER', 'BRUECHER', 'BRUGES',\n",
       "       'BRUISES(1)', 'BRUSO', 'BRUSQUELY', 'BRUT', 'BRUTAL', 'BRUTALLY',\n",
       "       'BRUTE', 'BRZOSKA', 'BULGRIN', 'BULLETPROOF', 'CALANDRA',\n",
       "       'CALGROUP', 'CALLIGRAPHY', 'CANE-GRASS', \"CARDOSO'S\", 'CHRIS',\n",
       "       \"CHRIS'\", 'CHRISP', 'CHRISS', 'CHRISSIE', 'CHRISSY', 'CHRISTA',\n",
       "       'CHRISTAL', 'CHRISTEL', \"CHRISTIE'S\", 'CHRISTIES', \"CHRISTINE'S\",\n",
       "       'CHRISTLIEB', 'CHRISTNER', 'CHRISTOFF', 'CHRISTOPH', 'CHRISTOPHE',\n",
       "       \"CHRISTY'S\", 'CHRONICALLY', 'CHRUSCIEL', 'CHRYST', 'CHRYSTAL',\n",
       "       'CLARDY', 'CLARKSVILLE', 'CLEANED', 'CLEAR-CUT', 'CLEARCUT',\n",
       "       'CLEARCUTS', 'CLEARCUTTING', 'CLEARED', 'CLEARER', 'CLEAVAGE(1)',\n",
       "       'CLEAVE', 'CLEAVELAND', 'CLEAVENGER', 'CLEVE', 'CLEVELAND',\n",
       "       'CLEVELANDER', 'CLEVENGER', 'CLEVETRUST', 'CLEVIE', 'CLINCHER',\n",
       "       'CLOSE', 'CLOSE(1)', 'CLOSE-UP', 'CLOSELY', 'CLOSENESS', 'CLOSER',\n",
       "       'CLOSEUP', 'CLOSEUPS', 'CLOSINGS', 'CLOTHES(1)', 'CLOTURE',\n",
       "       'CLOVIS', 'CLUCKS', 'COLEGROVE', 'COLLUSIVE', 'COLOSI',\n",
       "       'CONCLUSIVE', 'CONCLUSIVELY', 'CONCRETE', 'CONCRETELY',\n",
       "       'CONDUCIVE', 'CONGRATS', 'CONGRESSIONALLY(1)', 'CONGRUITY',\n",
       "       'CONSTRUCTIVELY', 'CONTRACTUALLY', 'CONTRIBUTOR', 'COSGRIFF',\n",
       "       'COUNTRIES', \"COUNTRIES'\", \"COUNTRY'S\", 'CRABTREE', 'CRAGGS',\n",
       "       'CRAMBLIT', 'CRANBERRIES', 'CRANDALL', 'CRANDELL', 'CRANFIELD',\n",
       "       'CRANLEY', 'CRANNIES', 'CRANS', 'CRASNER', 'CRAVE', 'CRAVEY',\n",
       "       'CRAVIN', 'CREACH', 'CREAGH', 'CREAK', 'CREAKED', 'CREAL', 'CREAM',\n",
       "       'CREAN', 'CREASE', 'CREASES', 'CREASEY', 'CREASY', 'CREATURE',\n",
       "       'CREDULITY', 'CREECH', 'CREECY', 'CREED', 'CREEDS', 'CREEK',\n",
       "       \"CREEK'S\", 'CREEKS', 'CREEL', 'CREELY', 'CREES', 'CREF', 'CREGER',\n",
       "       'CREME', 'CRETE', 'CREVIER', 'CRIGLER', 'CRIHFIELD', 'CRILLEY',\n",
       "       'CRILLY', 'CRINGE', 'CRINGED', 'CRINGES', 'CRINGING', 'CRIS',\n",
       "       'CRISAFULLI', 'CRISCI', 'CRISCIONE', 'CRISCUOLO', 'CRISLER',\n",
       "       'CRISP', 'CRISPER', 'CRISPINO', 'CRISPLY', 'CRISPNESS', 'CRISS',\n",
       "       'CRISS-CROSS', 'CRISS-CROSSED', 'CRISSCROSS', 'CRISSCROSSED',\n",
       "       'CRISSCROSSING', 'CRISSEY', 'CRISSINGER', 'CRIST', 'CRISTA',\n",
       "       'CRISTAL', \"CRISTO'S\", 'CRITCHER', 'CRITCHFIELD', 'CRITCHLEY',\n",
       "       'CRITTER', 'CRIVARO', 'CRIVELLI', 'CRIVELLO', 'CROCE', 'CROCUSES',\n",
       "       'CROFF', 'CROFOOT', 'CRONIES', 'CRONQUIST', 'CROSE', 'CROSON',\n",
       "       'CROSS-COUNTRY', 'CROSSFIELD', 'CROSSNO', 'CROSSOVER',\n",
       "       'CROSSVILLE', 'CROUP', 'CROVITZ', \"CROVITZ'S\", \"CROW'S\",\n",
       "       \"CROWLEY'S\", 'CROWS', 'CRUCE', 'CRUCES', 'CRUCIALLY', 'CRUCIFIX',\n",
       "       'CRUCIFIXES', 'CRUDELY', 'CRUISED', 'CRUISES', 'CRUISING',\n",
       "       'CRUMBLEY', 'CRUMRINE', 'CRUSADE', 'CRUSADER', 'CRUSADES',\n",
       "       'CRUSOE', 'CRUTCHFIELD', \"CRUTCHFIELD'S\", 'CRUTE', 'CRUX',\n",
       "       \"CRUZ'S\", 'CRYSLER', 'CRYSTAL', 'CRYSTALLOGRAPHER',\n",
       "       'CRYSTALLOGRAPHY', 'CUISINARTS', 'CULBRETH', 'CULPRIT', 'CULPRITS',\n",
       "       \"CUSO'S\", 'DAHLGREN', 'DANDRUFF', 'DEBRIEF', \"DEFOE'S\", 'DEGREES',\n",
       "       'DEGROOT', 'DEIRDRE', 'DELGRANDE', 'DELGROSSO', 'DIERCKS',\n",
       "       'DIERKER', 'DIERKES', 'DIERKS', 'DINGLEY', 'DISAGREE', 'DISAGREES',\n",
       "       'DISCLAND', 'DISCLOSE', 'DISCLOSED', 'DISCREET', 'DISCREETLY',\n",
       "       'DISCRETE', 'DISGRUNTLED', 'DISGRUNTLING', 'DISGRUNTLING(1)',\n",
       "       'DISPROVE', 'DISPROVEN', 'DISPROVES', 'DIVIRGILIO', \"DRAVO'S\",\n",
       "       'DREES', 'DREESE', 'DREIS', 'DRISCOLL', 'DRISKELL', 'DROOP',\n",
       "       'DRUCE', 'DRUPE', 'DRUSA', 'DRUSILLA', 'DRYCLEAN', 'DRYCLEANER',\n",
       "       'EARPLUGS', 'EARPLUGS(1)', 'EASTGROUP', 'EDRIS', 'EELGRASS',\n",
       "       'ELECTROSPRAY', 'ELOQUENTLY', 'ELUSIVE', 'ENCLOSE', 'ENCLOSED(1)',\n",
       "       'ENCROACH', 'ENCROACHED', 'ENCROACHES', 'ENCROACHING', 'ENDRIZZI',\n",
       "       'ENGRAVE', 'ENGRAVED', 'ENGRAVER', 'ENGRAVING', 'ENGRAVINGS',\n",
       "       'ENGROSS', 'ENGROSSED', 'ENGROSSING', 'ENGROSSMENT', 'ENTREGROWTH',\n",
       "       'EVADNE', 'EXCLUSIVE', 'EXCLUSIVELY', 'EXCLUSIVES', 'EXCLUSIVITY',\n",
       "       'EXOVIR', 'EXPLOSIVELY', 'EXPLOSIVOS', 'EXQUISITELY', 'FAIRGROUND',\n",
       "       'FAIRGROUNDS', 'FORECLOSE', 'FORECLOSED', 'FORECLOSES',\n",
       "       'FORECLOSING', 'FOREGROUND', 'GALAXY', 'GANGRENE', 'GARGUILO',\n",
       "       'GHRIST', 'GIANGRANDE', 'GIESBRECHT', 'GILBRETH', 'GILCHRIST',\n",
       "       'GILCREASE', 'GINGRICH', 'GINTER', 'GLADNEY', 'GLAND', 'GLANDER',\n",
       "       'GLANDS', 'GLANTZ', 'GLANVILLE', 'GLANZ', 'GLARED', 'GLASCOCK',\n",
       "       'GLASNOST(1)', 'GLASNOST(2)', 'GLASSFORD', 'GLAVIN', 'GLAVINE',\n",
       "       'GLAVINE(1)', 'GLAXO', \"GLAXO'S\", 'GLEACHER', 'GLEAM', 'GLEAMED',\n",
       "       'GLEAN', 'GLEANED', 'GLEAVE', 'GLEAVES', 'GLEEFUL', 'GLEEFULLY',\n",
       "       'GLEIM', 'GLINKA', 'GLINT', 'GLISSANDI', 'GLITCH', 'GLITTER',\n",
       "       'GLOAT', 'GLOATS', 'GLOWS', 'GLUCK', \"GLUCK'S\", 'GLUECK', 'GLUT',\n",
       "       'GLUTH', 'GLUTS', 'GLYMPH', 'GLYNNIE', 'GOLD-GREEN', 'GOLDCREEK',\n",
       "       'GRAB', 'GRABBE', 'GRABBED', 'GRABNER', 'GRABS', 'GRACE', 'GRACED',\n",
       "       'GRACEFULLY', 'GRACELAND', 'GRACILE', 'GRACKLE', 'GRAD',\n",
       "       'GRADCHEV', 'GRADCHEV(1)', 'GRADCO', 'GRADDY', 'GRADNEY', 'GRADS',\n",
       "       'GRADSTEIN', \"GRADSTEIN'S\", 'GRADUALLY', 'GRADUALLY(1)',\n",
       "       'GRADUATES(2)', 'GRAEBNER', 'GRAEF', 'GRAEF(1)', 'GRAEFE',\n",
       "       'GRAEFE(1)', 'GRAEFF', 'GRAEFF(1)', 'GRAEME', 'GRAEME(1)',\n",
       "       'GRAETZ', 'GRAF', 'GRAFE', 'GRAFF', 'GRAFFITI', 'GRAFT', 'GRAGE',\n",
       "       'GRAGG', 'GRAHAM(1)', \"GRAHAM'S(1)\", 'GRAHAMS', 'GRAHL', 'GRAHN',\n",
       "       'GRAINED', 'GRAINGER', 'GRAINY', 'GRALEY', 'GRAM', 'GRAMAPHONE',\n",
       "       'GRAMBLING', 'GRAMLEY', 'GRAMLICH', 'GRAMLING', 'GRAMM', \"GRAMM'S\",\n",
       "       'GRAMMAR', 'GRAMMER', 'GRAMMIES', 'GRAMMS', \"GRAMMY'S\", 'GRAMMYS',\n",
       "       'GRAMS', 'GRAN', 'GRANA', 'GRANAT', 'GRANBERRY', 'GRANCARE',\n",
       "       'GRAND', \"GRAND'S\", 'GRANDA', \"GRANDAD'S\", 'GRANDBERRY',\n",
       "       'GRANDCHAMP', 'GRANDCHILD', 'GRANDCHILDREN', 'GRANDCHILDREN(1)',\n",
       "       \"GRANDCHILDREN'S\", \"GRANDCHILDREN'S(1)\", 'GRANDE', 'GRANDER',\n",
       "       'GRANDEST', 'GRANDEUR', 'GRANDFATHERLY', 'GRANDFIELD', 'GRANDI',\n",
       "       'GRANDILLO', 'GRANDILOQUENT', 'GRANDIN', 'GRANDIOSE',\n",
       "       'GRANDIOSE(1)', 'GRANDIS', 'GRANDISON', 'GRANDKID', 'GRANDKID(1)',\n",
       "       'GRANDKIDS', 'GRANDKIDS(1)', 'GRANDLY', 'GRANDMA', \"GRANDMA'S\",\n",
       "       'GRANDMAS', 'GRANDMASTER', 'GRANDMET', 'GRANDNEPHEW',\n",
       "       'GRANDNEPHEWS', 'GRANDPA', \"GRANDPA'S\", 'GRANDPARENT',\n",
       "       'GRANDPARENTS', \"GRANDPARENTS'\", 'GRANDPAS', 'GRANDPRE', 'GRANDS',\n",
       "       'GRANDSON', \"GRANDSON'S\", 'GRANDSONS', 'GRANDSTAFF', 'GRANDSTAND',\n",
       "       'GRANDSTANDING', 'GRANDT', 'GRANDUNCLE', 'GRANDUNCLES',\n",
       "       'GRANDVIEW', 'GRANDY', 'GRANER', 'GRANESE', 'GRANEY', 'GRANFIELD',\n",
       "       'GRANGE', 'GRANGER', 'GRANGES', 'GRANHOLM', 'GRANITE', 'GRANITO',\n",
       "       'GRANLUND', 'GRANNIES', 'GRANNIS', 'GRANNY', 'GRANOFF',\n",
       "       'GRANQUIST', 'GRANT', \"GRANT'S\", 'GRANTED', 'GRANTED(1)',\n",
       "       'GRANTED(3)', 'GRANTING', 'GRANTING(1)', 'GRANTLAND', 'GRANTOR',\n",
       "       'GRANTORS', 'GRANTREE', \"GRANTREE'S\", 'GRANTS', 'GRANTZ',\n",
       "       'GRANULAR', 'GRANULE', 'GRANULES', 'GRANVILLE', \"GRANVILLE'S\",\n",
       "       'GRANZ', 'GRANZOW', 'GRAPH', 'GRAPHIC', 'GRAPHICALLY', 'GRAPHICS',\n",
       "       \"GRAPHICS'\", 'GRAPHOLOGY', 'GRAPHS', 'GRAPPLING', 'GRAS',\n",
       "       'GRAS(1)', 'GRASP', 'GRASS', 'GRASSE', 'GRASSED', 'GRASSEL',\n",
       "       'GRASSER', 'GRASSFIELD', \"GRASSFIELD'S\", 'GRASSGREEN', 'GRASSI',\n",
       "       'GRASSINGS', 'GRASSL', 'GRASSLAND', 'GRASSLANDS', 'GRASSLEY',\n",
       "       'GRASSO', 'GRASSROOT', 'GRASSROOTS', 'GRASSY', 'GRASTY', 'GRATZ',\n",
       "       'GRAU', 'GRAUE', 'GRAUE(1)', 'GRAUEL(1)', 'GRAUER(1)', 'GRAUNKE',\n",
       "       'GRAVATT', 'GRAVE', 'GRAVEL', 'GRAVELL', 'GRAVELLE', 'GRAVELLY',\n",
       "       'GRAVELY', 'GRAVER', 'GRAVES', \"GRAVES'S\", 'GRAVESTONE', 'GRAVETT',\n",
       "       'GRAVETTE', 'GRAVEYARD', 'GRAVEYARDS', 'GRAVIES', 'GRAVINA',\n",
       "       'GRAVINO', 'GRAVITT', \"GRAVITT'S\", 'GRAVITY', 'GRAVITY(1)',\n",
       "       'GRAVLEY', 'GRAVLIN', 'GRAVY', 'GRAY', \"GRAY'S\", 'GRAYE', 'GRAYS',\n",
       "       'GRAZE', 'GRAZED', 'GREANEY', 'GREAR', 'GREASE', 'GREASED',\n",
       "       'GREASER', 'GREASEWOOD', 'GREASING', 'GREASON', 'GREASY',\n",
       "       'GREAT-GRANDFATHER', 'GREAT-GRANDMOTHER', 'GREATLY', 'GREAVE',\n",
       "       'GREAVES', 'GREB', 'GREBE', 'GREBNER', 'GRECH', 'GREDE', 'GREEAR',\n",
       "       'GREECE', \"GREECE'S\", 'GREED', 'GREEDIER', 'GREEDILY', 'GREEDY',\n",
       "       'GREEK', 'GREEKS', 'GREELEY', 'GREELEYVILLE', 'GREELIEVILLE',\n",
       "       'GREELY', 'GREEN', \"GREEN'S\", 'GREENAN', \"GREENBACK'S\",\n",
       "       'GREENBACKS', 'GREENBELT', \"GREENBERG'S\", 'GREENBLATT',\n",
       "       'GREENBURY', 'GREENBUSH', 'GREENCASTLE', 'GREENE', \"GREENE'S\",\n",
       "       'GREENED', 'GREENER', 'GREENERY', 'GREENEST', 'GREENFELD',\n",
       "       \"GREENFELD'S\", 'GREENFELL', \"GREENFELL'S\", 'GREENFIELD',\n",
       "       \"GREENFIELD'S\", 'GREENHALGH', 'GREENHAM', 'GREENHAW', 'GREENHILL',\n",
       "       'GREENHOE', 'GREENHOUSE', 'GREENHOUSES', 'GREENHUT', 'GREENIDGE',\n",
       "       'GREENING', 'GREENISH', 'GREENLAND', 'GREENLAND(1)', 'GREENLAW',\n",
       "       'GREENLEAF', 'GREENLEE', 'GREENLEES', 'GREENLEY', 'GREENLY',\n",
       "       'GREENMAIL', 'GREENMAILER', 'GREENMAN', 'GREENNESS', 'GREENO',\n",
       "       'GREENOUGH', 'GREENPEACE', \"GREENPEACE'S\", 'GREENS', \"GREENS'\",\n",
       "       'GREENSBORO', 'GREENSHIELD', 'GREENSHIELDS', 'GREENSLADE',\n",
       "       'GREENSPUN', 'GREENSTEIN(1)', 'GREENSTONE', 'GREENSTREET',\n",
       "       'GREENUP', 'GREENVALE', 'GREENVILLE', 'GREENWALD', \"GREENWALD'S\",\n",
       "       'GREENWALDS', 'GREENWALT', 'GREENWAY', 'GREENWELL', 'GREENWICH(1)',\n",
       "       'GREENWOOD', 'GREER', 'GREESON', 'GREET', 'GREETED', 'GREETING',\n",
       "       'GREETINGS', 'GREETS', 'GREEVER', 'GREFE', 'GREFF', 'GREG',\n",
       "       \"GREG'S\", 'GREGA', 'GREGG', 'GREGGS', 'GREGOIRE', 'GREGSTON',\n",
       "       'GREGUS', 'GREIF', 'GREIFF', 'GREIFF(1)', 'GREIG', 'GREIM',\n",
       "       'GREINKE', 'GREIS', 'GREIWE', 'GRELL', 'GRELLA', 'GRELLE',\n",
       "       'GRENIER', 'GRESH', 'GRESS', 'GRETA', \"GRETA'S\", 'GRETE', 'GRETH',\n",
       "       'GRETZINGER', 'GREUEL', 'GREUNKE', 'GREVE', 'GREVER', 'GREW',\n",
       "       'GREWAL', 'GREWE', 'GREY', \"GREY'S\", 'GRICE', 'GRID', \"GRID'S\",\n",
       "       'GRIDLEY', \"GRIDLEY'S\", 'GRIDLOCK', \"GRIDLOCK'S\", 'GRIDLOCKED',\n",
       "       'GRIDLOCKS', 'GRIDS', 'GRIEB', 'GRIEDER', 'GRIEF', 'GRIEGER',\n",
       "       'GRIEME', 'GRIEP', 'GRIER(1)', \"GRIER'S(1)\", 'GRIESE', 'GRIESEMER',\n",
       "       'GRIESER', 'GRIESINGER', 'GRIESS', 'GRIESSER', 'GRIEVANCE',\n",
       "       'GRIEVANCES(1)', 'GRIEVE', 'GRIEVED', 'GRIEVER', 'GRIEVES',\n",
       "       'GRIEVESON(1)', 'GRIEVING', 'GRIEVOUS', 'GRIEVOUSLY', 'GRIFF',\n",
       "       'GRIFFEE', 'GRIFFEN', 'GRIFFEY', \"GRIFFEY'S\", 'GRIFFIE', 'GRIFFIN',\n",
       "       \"GRIFFIN'S\", 'GRIFFING', 'GRIFFIS', 'GRIFFITH', 'GRIFFITTS',\n",
       "       'GRIFFO', 'GRIFFON', 'GRIFFY', 'GRIGG', 'GRIGGS', 'GRIGNON',\n",
       "       'GRIJALVA', 'GRILL', 'GRILLE', 'GRILLED', 'GRILLI', 'GRILLING',\n",
       "       'GRILLOT', 'GRILLS', 'GRIM', 'GRIMA', 'GRIMALDI', 'GRIME',\n",
       "       'GRIMES', 'GRIMLEY', 'GRIMLY', 'GRIMM', \"GRIMM'S\", 'GRIMME',\n",
       "       'GRIMMER', 'GRIMNESS', 'GRIMSHAW', 'GRIMSLEY', 'GRIN', 'GRINAGE',\n",
       "       'GRINALD', 'GRINALDS', 'GRINCH', 'GRIND', 'GRINDE', 'GRINDER',\n",
       "       'GRINDING', 'GRINDLAY', 'GRINDLAY(1)', 'GRINDLAYS', 'GRINDLAYS(1)',\n",
       "       'GRINDLE', 'GRINDLEY', 'GRINDROD', 'GRINDS', 'GRINDSTAFF',\n",
       "       'GRINDSTONE', 'GRINE', 'GRING', 'GRINNED', 'GRINNING', 'GRINS',\n",
       "       'GRINSTEIN', 'GRIP', 'GRIPP', 'GRIPPED', 'GRIPS', 'GRISANTI',\n",
       "       'GRISBY', 'GRISCOM', 'GRISLY', 'GRISMER(1)', 'GRISSO', 'GRIST',\n",
       "       'GRISTLE', 'GRISWOLD', 'GRIT', 'GRITS', 'GRITTER', 'GRITTY',\n",
       "       'GRITZ', 'GRIVAS', 'GRIZ', 'GRIZELDA'], dtype='<U34')"
      ]
     },
     "execution_count": 48,
     "metadata": {},
     "output_type": "execute_result"
    }
   ],
   "source": [
    "res_words[:1000]"
   ]
  },
  {
   "cell_type": "code",
   "execution_count": null,
   "metadata": {},
   "outputs": [],
   "source": []
  }
 ],
 "metadata": {
  "kernelspec": {
   "display_name": "Python 3",
   "language": "python",
   "name": "python3"
  },
  "language_info": {
   "codemirror_mode": {
    "name": "ipython",
    "version": 3
   },
   "file_extension": ".py",
   "mimetype": "text/x-python",
   "name": "python",
   "nbconvert_exporter": "python",
   "pygments_lexer": "ipython3",
   "version": "3.8.2"
  }
 },
 "nbformat": 4,
 "nbformat_minor": 4
}
