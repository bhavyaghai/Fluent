{
 "cells": [
  {
   "cell_type": "code",
   "execution_count": 1,
   "metadata": {},
   "outputs": [],
   "source": [
    "# Filtering phonetic embedding for words which consists solely of alphabets\n",
    "# Then saving as pickle file for faster load time"
   ]
  },
  {
   "cell_type": "code",
   "execution_count": 2,
   "metadata": {},
   "outputs": [],
   "source": [
    "import sys\n",
    "from annoy import AnnoyIndex\n",
    "from scipy.spatial.distance import cosine\n",
    "from sklearn import svm\n",
    "import numpy as np\n",
    "import pickle"
   ]
  },
  {
   "cell_type": "code",
   "execution_count": 3,
   "metadata": {},
   "outputs": [
    {
     "name": "stderr",
     "output_type": "stream",
     "text": [
      "loading... Phoentic similarity\n",
      "done.\n"
     ]
    }
   ],
   "source": [
    "t = AnnoyIndex(50, metric='angular')\n",
    "lookup = dict()\n",
    "\n",
    "print(\"loading... Phoentic similarity\", file=sys.stderr)\n",
    "for i, line in enumerate(open(\"../data/cmudict-0.7b-simvecs\", encoding=\"latin1\")):\n",
    "    line = line.strip()\n",
    "    word, vec_s = line.split(\"  \")\n",
    "    vec = [float(n) for n in vec_s.split()]\n",
    "    t.add_item(i, vec)\n",
    "    lookup[word] = vec\n",
    "t.build(50)\n",
    "print(\"done.\", file=sys.stderr)"
   ]
  },
  {
   "cell_type": "code",
   "execution_count": 4,
   "metadata": {},
   "outputs": [
    {
     "data": {
      "text/plain": [
       "133859"
      ]
     },
     "execution_count": 4,
     "metadata": {},
     "output_type": "execute_result"
    }
   ],
   "source": [
    "words = list(lookup.keys())\n",
    "len(words)"
   ]
  },
  {
   "cell_type": "code",
   "execution_count": 5,
   "metadata": {},
   "outputs": [
    {
     "data": {
      "text/plain": [
       "['!EXCLAMATION-POINT',\n",
       " '\"CLOSE-QUOTE',\n",
       " '\"DOUBLE-QUOTE',\n",
       " '\"END-OF-QUOTE',\n",
       " '\"END-QUOTE',\n",
       " '\"IN-QUOTES',\n",
       " '\"QUOTE',\n",
       " '\"UNQUOTE',\n",
       " '#HASH-MARK',\n",
       " '#POUND-SIGN',\n",
       " '#SHARP-SIGN',\n",
       " '%PERCENT',\n",
       " '&AMPERSAND',\n",
       " \"'ALLO\",\n",
       " \"'APOSTROPHE\",\n",
       " \"'BOUT\",\n",
       " \"'CAUSE\",\n",
       " \"'COURSE\",\n",
       " \"'CUSE\",\n",
       " \"'EM\"]"
      ]
     },
     "execution_count": 5,
     "metadata": {},
     "output_type": "execute_result"
    }
   ],
   "source": [
    "words[:20]"
   ]
  },
  {
   "cell_type": "code",
   "execution_count": 6,
   "metadata": {},
   "outputs": [
    {
     "data": {
      "text/plain": [
       "['GRAEF(1)', 'GRAEFE(1)', 'GRAEFF(1)', 'GRAF', 'GRAFF']"
      ]
     },
     "execution_count": 6,
     "metadata": {},
     "output_type": "execute_result"
    }
   ],
   "source": [
    "w = \"graph\".upper()\n",
    "vec = lookup[w]\n",
    "num_neigh = 5\n",
    "words = list(lookup.keys())\n",
    "[words[i] for i in t.get_nns_by_vector(vec, num_neigh)]"
   ]
  },
  {
   "cell_type": "code",
   "execution_count": 7,
   "metadata": {},
   "outputs": [
    {
     "data": {
      "text/plain": [
       "116514"
      ]
     },
     "execution_count": 7,
     "metadata": {},
     "output_type": "execute_result"
    }
   ],
   "source": [
    "# only considering words which solely consists of alphabets\n",
    "filtered_words = []\n",
    "for w in words:\n",
    "    if w.isalpha():\n",
    "        filtered_words.append(w)\n",
    "len(filtered_words)"
   ]
  },
  {
   "cell_type": "code",
   "execution_count": 8,
   "metadata": {},
   "outputs": [
    {
     "data": {
      "text/plain": [
       "['A',\n",
       " 'AA',\n",
       " 'AAA',\n",
       " 'AABERG',\n",
       " 'AACHEN',\n",
       " 'AACHENER',\n",
       " 'AAH',\n",
       " 'AAKER',\n",
       " 'AALIYAH',\n",
       " 'AALSETH']"
      ]
     },
     "execution_count": 8,
     "metadata": {},
     "output_type": "execute_result"
    }
   ],
   "source": [
    "filtered_words[:10]"
   ]
  },
  {
   "cell_type": "code",
   "execution_count": 14,
   "metadata": {},
   "outputs": [],
   "source": [
    "res_lookup = {}\n",
    "for w in filtered_words:\n",
    "    res_lookup[w] = lookup[w]"
   ]
  },
  {
   "cell_type": "code",
   "execution_count": 17,
   "metadata": {},
   "outputs": [],
   "source": [
    "path = \"../data/\"\n",
    "with open(path+'phonetic_embd.pickle', 'wb') as handle:\n",
    "    pickle.dump(res_lookup, handle, protocol=pickle.HIGHEST_PROTOCOL)"
   ]
  },
  {
   "cell_type": "code",
   "execution_count": 18,
   "metadata": {},
   "outputs": [],
   "source": [
    "# read pickle file\n",
    "with open(path+'phonetic_embd.pickle', 'rb') as handle:\n",
    "    r = pickle.load(handle)"
   ]
  },
  {
   "cell_type": "code",
   "execution_count": 22,
   "metadata": {},
   "outputs": [
    {
     "data": {
      "text/plain": [
       "['A',\n",
       " 'AA',\n",
       " 'AAA',\n",
       " 'AABERG',\n",
       " 'AACHEN',\n",
       " 'AACHENER',\n",
       " 'AAH',\n",
       " 'AAKER',\n",
       " 'AALIYAH',\n",
       " 'AALSETH',\n",
       " 'AAMODT',\n",
       " 'AANCOR',\n",
       " 'AARDEMA',\n",
       " 'AARDVARK',\n",
       " 'AARDVARKS',\n",
       " 'AARGH',\n",
       " 'AARON',\n",
       " 'AARONS',\n",
       " 'AARONSON',\n",
       " 'AARTI',\n",
       " 'AASE',\n",
       " 'AASEN',\n",
       " 'AB',\n",
       " 'ABA',\n",
       " 'ABABA']"
      ]
     },
     "execution_count": 22,
     "metadata": {},
     "output_type": "execute_result"
    }
   ],
   "source": [
    "list(r.keys())[:25]"
   ]
  },
  {
   "cell_type": "code",
   "execution_count": null,
   "metadata": {},
   "outputs": [],
   "source": []
  }
 ],
 "metadata": {
  "kernelspec": {
   "display_name": "Python 3",
   "language": "python",
   "name": "python3"
  },
  "language_info": {
   "codemirror_mode": {
    "name": "ipython",
    "version": 3
   },
   "file_extension": ".py",
   "mimetype": "text/x-python",
   "name": "python",
   "nbconvert_exporter": "python",
   "pygments_lexer": "ipython3",
   "version": "3.8.2"
  }
 },
 "nbformat": 4,
 "nbformat_minor": 4
}
