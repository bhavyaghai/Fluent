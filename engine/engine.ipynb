{
 "cells": [
  {
   "cell_type": "code",
   "execution_count": 24,
   "metadata": {},
   "outputs": [],
   "source": [
    "# usage: python similarity.py cmudict-0.7b-simvecs\n",
    "# reads a single line of standard input, displays the most similar items\n",
    "# found in cmudict-0.7b-simvecs\n",
    "import sys\n",
    "from annoy import AnnoyIndex\n",
    "\n",
    "from scipy.spatial.distance import cosine"
   ]
  },
  {
   "cell_type": "code",
   "execution_count": 25,
   "metadata": {},
   "outputs": [],
   "source": [
    "# given two words 'string' -> returns their phonetic similarity\n",
    "def pcosine(w1, w2):\n",
    "    w1, w2 = w1.upper(), w2.upper()\n",
    "    return 1-cosine(lookup[w1], lookup[w2])"
   ]
  },
  {
   "cell_type": "code",
   "execution_count": 20,
   "metadata": {},
   "outputs": [
    {
     "name": "stderr",
     "output_type": "stream",
     "text": [
      "loading...\n",
      "done.\n"
     ]
    }
   ],
   "source": [
    "t = AnnoyIndex(50, metric='angular')\n",
    "words = list()\n",
    "lookup = dict()\n",
    "\n",
    "print(\"loading...\", file=sys.stderr)\n",
    "for i, line in enumerate(open(\"../data/cmudict-0.7b-simvecs\", encoding=\"latin1\")):\n",
    "    line = line.strip()\n",
    "    word, vec_s = line.split(\"  \")\n",
    "    vec = [float(n) for n in vec_s.split()]\n",
    "    t.add_item(i, vec)\n",
    "    lookup[word] = vec\n",
    "    words.append(word)\n",
    "t.build(50)\n",
    "print(\"done.\", file=sys.stderr)"
   ]
  },
  {
   "cell_type": "code",
   "execution_count": 21,
   "metadata": {},
   "outputs": [
    {
     "data": {
      "text/plain": [
       "133859"
      ]
     },
     "execution_count": 21,
     "metadata": {},
     "output_type": "execute_result"
    }
   ],
   "source": [
    "# number of words in phonetic dictionary\n",
    "len(lookup)"
   ]
  },
  {
   "cell_type": "code",
   "execution_count": 32,
   "metadata": {},
   "outputs": [
    {
     "data": {
      "text/plain": [
       "['GRAEF(1)', 'GRAEFE(1)', 'GRAEFF(1)', 'GRAF', 'GRAFF']"
      ]
     },
     "execution_count": 32,
     "metadata": {},
     "output_type": "execute_result"
    }
   ],
   "source": [
    "w = \"graph\".upper()\n",
    "vec = lookup[w]\n",
    "num_neigh = 5\n",
    "[words[i] for i in t.get_nns_by_vector(vec, num_neigh)]"
   ]
  },
  {
   "cell_type": "code",
   "execution_count": 33,
   "metadata": {},
   "outputs": [
    {
     "data": {
      "text/plain": [
       "0.4266593016705489"
      ]
     },
     "execution_count": 33,
     "metadata": {},
     "output_type": "execute_result"
    }
   ],
   "source": [
    "pcosine(\"he\", \"she\")"
   ]
  },
  {
   "cell_type": "code",
   "execution_count": 35,
   "metadata": {},
   "outputs": [
    {
     "data": {
      "text/plain": [
       "0.020586781508952656"
      ]
     },
     "execution_count": 35,
     "metadata": {},
     "output_type": "execute_result"
    }
   ],
   "source": [
    "pcosine(\"cat\",\"banter\")"
   ]
  },
  {
   "cell_type": "code",
   "execution_count": null,
   "metadata": {},
   "outputs": [],
   "source": []
  }
 ],
 "metadata": {
  "kernelspec": {
   "display_name": "Python 3",
   "language": "python",
   "name": "python3"
  },
  "language_info": {
   "codemirror_mode": {
    "name": "ipython",
    "version": 3
   },
   "file_extension": ".py",
   "mimetype": "text/x-python",
   "name": "python",
   "nbconvert_exporter": "python",
   "pygments_lexer": "ipython3",
   "version": "3.8.2"
  }
 },
 "nbformat": 4,
 "nbformat_minor": 4
}
