{
 "cells": [
  {
   "cell_type": "code",
   "execution_count": 4,
   "metadata": {},
   "outputs": [],
   "source": [
    "# usage: python similarity.py cmudict-0.7b-simvecs\n",
    "# reads a single line of standard input, displays the most similar items\n",
    "# found in cmudict-0.7b-simvecs\n",
    "import sys\n",
    "from scipy.spatial.distance import cosine\n",
    "from sklearn import svm\n",
    "import numpy as np\n",
    "import pickle"
   ]
  },
  {
   "cell_type": "code",
   "execution_count": 5,
   "metadata": {},
   "outputs": [],
   "source": [
    "# given two words 'string' -> returns their phonetic similarity\n",
    "def pcosine(w1, w2):\n",
    "    w1, w2 = w1.upper(), w2.upper()\n",
    "    return 1-cosine(lookup[w1], lookup[w2])"
   ]
  },
  {
   "cell_type": "code",
   "execution_count": 6,
   "metadata": {},
   "outputs": [],
   "source": [
    "# read phonetic embedding pickle file\n",
    "path = \"../data/\"\n",
    "with open(path+'phonetic_embd.pickle', 'rb') as handle:\n",
    "    lookup = pickle.load(handle)"
   ]
  },
  {
   "cell_type": "code",
   "execution_count": 7,
   "metadata": {},
   "outputs": [
    {
     "data": {
      "text/plain": [
       "116514"
      ]
     },
     "execution_count": 7,
     "metadata": {},
     "output_type": "execute_result"
    }
   ],
   "source": [
    "# number of words in phonetic dictionary\n",
    "len(lookup)"
   ]
  },
  {
   "cell_type": "code",
   "execution_count": 9,
   "metadata": {},
   "outputs": [
    {
     "data": {
      "text/plain": [
       "0.4266593016705489"
      ]
     },
     "execution_count": 9,
     "metadata": {},
     "output_type": "execute_result"
    }
   ],
   "source": [
    "pcosine(\"he\", \"she\")"
   ]
  },
  {
   "cell_type": "code",
   "execution_count": 10,
   "metadata": {},
   "outputs": [
    {
     "data": {
      "text/plain": [
       "0.020586781508952656"
      ]
     },
     "execution_count": 10,
     "metadata": {},
     "output_type": "execute_result"
    }
   ],
   "source": [
    "pcosine(\"cat\",\"banter\")"
   ]
  },
  {
   "cell_type": "markdown",
   "metadata": {},
   "source": [
    "# Train classifier to segregate easy/difficult words"
   ]
  },
  {
   "cell_type": "code",
   "execution_count": 11,
   "metadata": {},
   "outputs": [],
   "source": [
    "easy = \"cat,rat,mat,bat,chair,table,mathematics,science,apple,banana,laptop,shirt,fan,book,boy,he,female,male\".split(\",\")\n",
    "difficult = \"Graph,Group,Trivedi,Green,Grand,Provost,Printer,Alaska,Close,Italy\".split(\",\")\n",
    "\n",
    "X, y = [], []\n",
    "for w in easy:\n",
    "    word = w.upper()\n",
    "    if word in lookup:\n",
    "        X.append(lookup[word])\n",
    "        y.append(0)\n",
    "        \n",
    "for w in difficult:\n",
    "    word = w.upper()\n",
    "    if word in lookup:\n",
    "        X.append(lookup[word])\n",
    "        y.append(1)"
   ]
  },
  {
   "cell_type": "code",
   "execution_count": 12,
   "metadata": {},
   "outputs": [
    {
     "data": {
      "text/plain": [
       "SVC(C=1.0, break_ties=False, cache_size=200, class_weight=None, coef0=0.0,\n",
       "    decision_function_shape='ovr', degree=3, gamma='scale', kernel='rbf',\n",
       "    max_iter=-1, probability=True, random_state=0, shrinking=True, tol=0.001,\n",
       "    verbose=False)"
      ]
     },
     "execution_count": 12,
     "metadata": {},
     "output_type": "execute_result"
    }
   ],
   "source": [
    "clf = svm.SVC(probability=True, random_state=0)\n",
    "clf.fit(X, y)"
   ]
  },
  {
   "cell_type": "code",
   "execution_count": 15,
   "metadata": {},
   "outputs": [
    {
     "data": {
      "text/plain": [
       "array([[0.97422497, 0.02577503]])"
      ]
     },
     "execution_count": 15,
     "metadata": {},
     "output_type": "execute_result"
    }
   ],
   "source": [
    "clf.predict_proba([lookup[\"CHAIR\"]])"
   ]
  },
  {
   "cell_type": "code",
   "execution_count": 13,
   "metadata": {},
   "outputs": [],
   "source": [
    "pred = clf.predict_proba(list(lookup.values()))"
   ]
  },
  {
   "cell_type": "code",
   "execution_count": 13,
   "metadata": {},
   "outputs": [
    {
     "data": {
      "text/plain": [
       "(1533,)"
      ]
     },
     "execution_count": 13,
     "metadata": {},
     "output_type": "execute_result"
    }
   ],
   "source": [
    "res_words = np.array(list(lookup.keys()))[pred[:,1]>0.95]\n",
    "res_words.shape"
   ]
  },
  {
   "cell_type": "code",
   "execution_count": 14,
   "metadata": {},
   "outputs": [
    {
     "data": {
      "text/plain": [
       "array(['\"CLOSE-QUOTE', '+PLUS', 'AARDVARKS', 'ACCUMULATIVELY(1)',\n",
       "       'ACCUSINGLY', 'ACREE', 'ACUTELY', 'AGGRIEVE', 'AGREES', 'AGRUSA',\n",
       "       'AHLGRIM', 'AIRCREW', 'ALASKA', 'ALEGRE', 'ALEKSANDER',\n",
       "       'ALEKSANDR', 'ALEX', 'ALEXANDRA', 'ALEXANDRA(1)', 'ALEXANDRINE',\n",
       "       'ALEXANDRINES', 'ALEXS', 'ALKALI', 'ALLOGRAPH', 'AMBROSINE',\n",
       "       'AMBROSINI', 'ANCHOVIES', 'ANCHOVIES(1)', 'ANDREY', 'ANDRIES',\n",
       "       'ANDRY', 'ANGLOPHONE', 'ANGLOPHONES', 'ANGLOS(1)', 'ANGRILY',\n",
       "       'APPRECIATIVELY(1)', 'APPROVINGLY', 'ARCAND', 'ARCHITRAVE',\n",
       "       'ARDINE', 'ARGENBRIGHT', 'ARGOSY', 'ARGUES', 'ARMBRISTER(1)',\n",
       "       'ARMBRUSTER(1)', 'ARQUILLA', 'ATTRACTIVELY', 'BELGRAVE',\n",
       "       'BLANDFORD', \"BLANKLY'S\", 'BLEAKNEY', 'BLITZKRIEG', 'BLUEGRASS',\n",
       "       'BLUEPRINT', 'BLUEPRINTS', 'BRACINGLY', 'BRACKNEY', 'BRADFIELD',\n",
       "       'BRADLEES', \"BRADLEY'S\", 'BRADLEYS', 'BRADNER', 'BRADNEY',\n",
       "       'BRAENDSTROEM', 'BRAFF', 'BRAINTREE', 'BRAND', \"BRAND'S\",\n",
       "       'BRAND-NEW', 'BRANDE', 'BRANDER', 'BRANDES', 'BRANDI', 'BRANDING',\n",
       "       'BRANDIS', 'BRANDISH', 'BRANDNER', 'BRANDNEW', 'BRANDS', \"BRANDS'\",\n",
       "       \"BRANDS'S\", 'BRANDT', 'BRANDTNER', 'BRANDVOLD', 'BRANDY',\n",
       "       'BRANIFF', \"BRANK'S\", 'BRANKS', 'BRANSFIELD', 'BRANT', 'BRANTLEY',\n",
       "       'BRANTLY', 'BRANTNER', \"BRASSO'S\", 'BRAVE', 'BRAVEHEART',\n",
       "       'BRAYFIELD', 'BRAZOS', 'BREACH', 'BREACHED', 'BREAN', 'BREATHE',\n",
       "       'BREAZEALE', 'BREDE', 'BREECE', 'BREECH', 'BREED', \"BREED'S\",\n",
       "       'BREEDER', 'BREEDING', 'BREEDLOVE', 'BREEDS', 'BREELAND', 'BREEN',\n",
       "       'BREES', 'BREESE', 'BREEZE', 'BREEZES', 'BREEZY', 'BREGE',\n",
       "       'BRENER', 'BRENES', 'BREWSTER', 'BREZINSKI', 'BRIARCLIFF',\n",
       "       'BRICKLEY', 'BRICKLIN', \"BRICKLIN'S\", 'BRIDEGROOM', \"BRIDEGROOM'S\",\n",
       "       'BRIDGEFORD', 'BRIEF', 'BRIEFINGS', 'BRIEFLY', 'BRIEL', 'BRIESE',\n",
       "       'BRILLIANTLY', 'BRINDLE', 'BRINDLEY', \"BRINK'S\", 'BRINKLEY',\n",
       "       \"BRINKLEY'S\", 'BRINKLY', 'BRINKS', 'BRINSER', 'BRINSFIELD',\n",
       "       'BRINTON', 'BRISK', 'BRISKET', 'BRISKLY', 'BRISTER', 'BRITA',\n",
       "       'BRITNEY', \"BRITNEY'S\", 'BRITTLER', 'BRIZENDINE', 'BRIZOLA',\n",
       "       'BRIZZI', \"BRO'S\", 'BROACHED', 'BROCE', 'BROKERAGE(1)', 'BROOCH',\n",
       "       'BROOKHART', 'BROSE', 'BROUSSEAU', 'BROWNFIELD', 'BRUCE',\n",
       "       'BRUCKNER', 'BRUECHER', 'BRUGES', 'BRUISES(1)', 'BRUNHILDA',\n",
       "       'BRUSCHI', 'BRUSO', 'BRUSQUELY', 'BRUT', 'BRUTAL', 'BRUTALLY',\n",
       "       'BRUTE', 'BRZEZINSKI', 'BRZOSKA', 'BULGRIN', 'BULLETPROOF',\n",
       "       'CALANDRA', 'CALGROUP', 'CALLIGRAPHY', 'CALUTZI', 'CANE-GRASS',\n",
       "       'CARDIOVASCULAR', \"CARDOSO'S\", 'CHRIS', \"CHRIS'\", 'CHRISP',\n",
       "       'CHRISS', 'CHRISSIE', 'CHRISSY', 'CHRISTA', 'CHRISTAL', 'CHRISTEL',\n",
       "       'CHRISTI', 'CHRISTIE', \"CHRISTIE'S\", 'CHRISTIES', 'CHRISTINE',\n",
       "       \"CHRISTINE'S\", 'CHRISTLIEB', 'CHRISTNER', 'CHRISTOFF', 'CHRISTOPH',\n",
       "       'CHRISTOPHE', 'CHRISTY', \"CHRISTY'S\", 'CHRONICALLY', 'CHRONIS',\n",
       "       'CHRUSCIEL', 'CHRYST', 'CHRYSTAL', 'CLARDY', 'CLARKSVILLE',\n",
       "       'CLEANED', 'CLEAR-CUT', 'CLEARCUT', 'CLEARCUTS', 'CLEARCUTTING',\n",
       "       'CLEARED', 'CLEARER', 'CLEAVAGE(1)', 'CLEAVE', 'CLEAVELAND',\n",
       "       'CLEAVENGER', 'CLEVE', 'CLEVELAND', 'CLEVELANDER', 'CLEVENGER',\n",
       "       'CLEVETRUST', 'CLEVIE', 'CLIF', 'CLIFF', 'CLIFFE', 'CLINCHER',\n",
       "       'CLOSE', 'CLOSE(1)', 'CLOSE-UP', 'CLOSELY', 'CLOSENESS', 'CLOSER',\n",
       "       'CLOSES', 'CLOSEUP', 'CLOSEUPS', 'CLOSING', 'CLOSINGS', 'CLOTHE',\n",
       "       'CLOTHES(1)', 'CLOTHIER', 'CLOTURE', 'CLOVERLEAF', 'CLOVIS',\n",
       "       'CLUCKS', 'COLEGROVE', 'COLLUSIVE', 'COLOSI', 'CONCLUSIVE',\n",
       "       'CONCLUSIVELY', 'CONCRETE', 'CONCRETE(1)', 'CONCRETELY',\n",
       "       'CONDUCIVE', 'CONGRATS', 'CONGRESSIONALLY(1)', 'CONGRUITY',\n",
       "       'CONSTRUCTIVELY', 'CONTRACTUALLY', 'CONTRIBUTOR', 'CORPUS-CHRISTI',\n",
       "       'COSGRIFF', 'COUNTRIES', \"COUNTRIES'\", \"COUNTRY'S\", 'CRABTREE',\n",
       "       'CRACRAFT', 'CRAGGS', 'CRAMBLIT', 'CRANBERRIES', 'CRANBERRY',\n",
       "       'CRANDALL', 'CRANDELL', 'CRANED', 'CRANFIELD', 'CRANKS', 'CRANLEY',\n",
       "       'CRANNIES', 'CRANS', 'CRASNER', 'CRAVE', 'CRAVEY', 'CRAVIN',\n",
       "       'CRAVINGS', 'CRAXI', 'CREACH', 'CREAGH', 'CREAK', 'CREAKED',\n",
       "       'CREAL', 'CREAM', 'CREAMED', 'CREAN', 'CREASE', 'CREASES',\n",
       "       'CREASEY', 'CREASY', 'CREATURE', 'CREDEUR', 'CREDULITY', 'CREECH',\n",
       "       'CREECY', 'CREED', 'CREEDS', 'CREEK', \"CREEK'S\", 'CREEKS', 'CREEL',\n",
       "       'CREELY', 'CREEP', 'CREES', 'CREF', 'CREGER', 'CREME', 'CRESAP(1)',\n",
       "       'CRETE', 'CREVIER', 'CRIGLER', 'CRIHFIELD', 'CRILL', 'CRILLEY',\n",
       "       'CRILLY', 'CRINGE', 'CRINGED', 'CRINGES', 'CRINGING', 'CRIS',\n",
       "       'CRISAFULLI', 'CRISCI', 'CRISCIONE', 'CRISCUOLO', 'CRISLER',\n",
       "       'CRISOSTOMO', 'CRISP', 'CRISPELL', 'CRISPER', 'CRISPINO',\n",
       "       'CRISPLY', 'CRISPNESS', 'CRISS', 'CRISS-CROSS', 'CRISS-CROSSED',\n",
       "       'CRISSCROSS', 'CRISSCROSSED', 'CRISSCROSSING', 'CRISSEY',\n",
       "       'CRISSINGER', 'CRIST', 'CRISTA', 'CRISTAL', \"CRISTO'S\", 'CRITCHER',\n",
       "       'CRITCHFIELD', 'CRITCHLEY', 'CRITSER', 'CRITTER', 'CRIVARO',\n",
       "       'CRIVELLI', 'CRIVELLO', 'CROCE', 'CROCUSES', 'CROFF', 'CROFOOT',\n",
       "       'CRONIES', 'CRONQUIST', 'CROSE', 'CROSON', 'CROSS-COUNTRY',\n",
       "       'CROSSFIELD', 'CROSSNO', 'CROSSOVER', 'CROSSVILLE', 'CROTEAU',\n",
       "       'CROTONVILLE', 'CROTTEAU', 'CROUP', 'CROVITZ', \"CROVITZ'S\",\n",
       "       \"CROW'S\", \"CROWLEY'S\", 'CROWS', 'CRUCE', 'CRUCES', 'CRUCIALLY',\n",
       "       'CRUCIFIX', 'CRUCIFIXES', \"CRUDE'S\", 'CRUDELY', 'CRUDES',\n",
       "       'CRUELTIES', 'CRUISED', 'CRUISES', 'CRUISING', 'CRUMBLEY',\n",
       "       'CRUMRINE', 'CRUSADE', 'CRUSADER', 'CRUSADES', 'CRUSADING',\n",
       "       'CRUSOE', 'CRUTCHFIELD', \"CRUTCHFIELD'S\", 'CRUTE', 'CRUX',\n",
       "       \"CRUZ'S\", 'CRYSLER', 'CRYSTAL', 'CRYSTALLOGRAPHER',\n",
       "       'CRYSTALLOGRAPHY', 'CUISINARTS', 'CULBRETH', 'CULPRIT', 'CULPRITS',\n",
       "       \"CUSO'S\", 'DAHLGREN', 'DANDRUFF', 'DEBRIEF', 'DECREASE(1)',\n",
       "       'DECREASED(1)', \"DEFOE'S\", 'DEGREE', 'DEGREES', 'DEGROOT',\n",
       "       'DEIRDRE', 'DELGRANDE', 'DELGROSSO', 'DEVENY', 'DEVOS', 'DIERCKS',\n",
       "       'DIERKER', 'DIERKES', 'DIERKS', 'DINGLEY', 'DISAGREE', 'DISAGREES',\n",
       "       'DISCLAND', 'DISCLOSE', 'DISCLOSED', 'DISCLOSING', 'DISCREET',\n",
       "       'DISCREETLY', 'DISCRETE', 'DISGRUNTLED', 'DISGRUNTLING',\n",
       "       'DISGRUNTLING(1)', 'DISPROVE', 'DISPROVEN', 'DISPROVES',\n",
       "       'DIVIRGILIO', 'DNIESTER', 'DRAVIS', \"DRAVO'S\", 'DREES', 'DREESE',\n",
       "       'DREIS', 'DRIGGS', 'DRINKWATER', 'DRISCOLL', 'DRISKELL', 'DROOP',\n",
       "       'DRUCE', 'DRUPE', 'DRUSA', 'DRUSILLA', 'DRYCLEAN', 'DRYCLEANER',\n",
       "       'EARMARKS(1)', 'EARPLUGS', 'EARPLUGS(1)', 'EASTGROUP', 'EDRIS',\n",
       "       'EELGRASS', 'ELECTROSPRAY', 'ELOQUENTLY', 'ELUSIVE', 'ENCLOSE',\n",
       "       'ENCLOSED(1)', 'ENCROACH', 'ENCROACHED', 'ENCROACHES',\n",
       "       'ENCROACHING', 'ENCROACHMENTS', 'ENDRIZZI', 'ENGRAVE', 'ENGRAVED',\n",
       "       'ENGRAVER', 'ENGRAVING', 'ENGRAVINGS', 'ENGROSS', 'ENGROSSED',\n",
       "       'ENGROSSING', 'ENGROSSMENT', 'ENTREGROWTH', 'EVADNE', 'EXCLUSIVE',\n",
       "       'EXCLUSIVELY', 'EXCLUSIVES', 'EXCLUSIVITY', 'EXOVIR',\n",
       "       'EXPLOSIVELY', 'EXPLOSIVOS', 'EXQUISITELY', 'FAIRGROUND',\n",
       "       'FAIRGROUNDS', 'FARGNOLI', 'FOOTPRINTS', 'FORECLOSE', 'FORECLOSED',\n",
       "       'FORECLOSES', 'FORECLOSING', 'FOREGROUND', 'FULLILOVE', 'GALAXY',\n",
       "       'GANGRENE', 'GARGUILO', 'GHRIST', 'GIANGRANDE', 'GIESBRECHT',\n",
       "       'GILBRETH', 'GILCHRIST', 'GILCREASE', 'GILCREST(1)', 'GILLOGLY',\n",
       "       'GINGRICH', 'GINTER', 'GLADNEY', 'GLAND', 'GLANDER', 'GLANDS',\n",
       "       'GLANTZ', 'GLANVILLE', 'GLANZ', 'GLARED', 'GLASCOCK',\n",
       "       'GLASNOST(1)', 'GLASNOST(2)', 'GLASSFORD', 'GLAVIN', 'GLAVINE',\n",
       "       'GLAVINE(1)', 'GLAXO', \"GLAXO'S\", 'GLAZENER', 'GLEACHER', 'GLEAM',\n",
       "       'GLEAMED', 'GLEAN', 'GLEANED', 'GLEAVE', 'GLEAVES', 'GLEEFUL',\n",
       "       'GLEEFULLY', 'GLEIM', 'GLENBROOK', 'GLINKA', 'GLINT', 'GLISSANDI',\n",
       "       'GLITCH', 'GLITTER', 'GLOAT', 'GLOATS', 'GLOECKNER', 'GLOWS',\n",
       "       'GLUCK', \"GLUCK'S\", 'GLUECK', 'GLUT', 'GLUTH', 'GLUTS', 'GLYMPH',\n",
       "       'GLYNNIE', 'GOLD-GREEN', 'GOLDCREEK', 'GRAB', 'GRABBE', 'GRABBED',\n",
       "       'GRABNER', 'GRABS', 'GRACE', 'GRACED', 'GRACEFULLY', 'GRACELAND',\n",
       "       'GRACI', 'GRACILE', 'GRACKLE', 'GRAD', 'GRADCHEV', 'GRADCHEV(1)',\n",
       "       'GRADCO', 'GRADDY', 'GRADNEY', 'GRADS', 'GRADSTEIN', \"GRADSTEIN'S\",\n",
       "       'GRADUALLY', 'GRADUALLY(1)', 'GRADUATE(2)', 'GRADUATES(2)',\n",
       "       'GRAEBNER', 'GRAEF', 'GRAEF(1)', 'GRAEFE', 'GRAEFE(1)', 'GRAEFF',\n",
       "       'GRAEFF(1)', 'GRAEME', 'GRAEME(1)', 'GRAETZ', 'GRAF', 'GRAFE',\n",
       "       'GRAFF', 'GRAFFITI', 'GRAFT', 'GRAFTS', 'GRAGE', 'GRAGG',\n",
       "       'GRAHAM(1)', \"GRAHAM'S(1)\", 'GRAHAMS', 'GRAHL', 'GRAHN', 'GRAINED',\n",
       "       'GRAINGER', 'GRAINY', 'GRALEY', 'GRAM', 'GRAMAPHONE', 'GRAMBLING',\n",
       "       'GRAMLEY', 'GRAMLICH', 'GRAMLING', 'GRAMM', \"GRAMM'S\", 'GRAMMAR',\n",
       "       'GRAMMER', 'GRAMMIES', 'GRAMMS', \"GRAMMY'S\", 'GRAMMYS', 'GRAMS',\n",
       "       'GRAN', 'GRANA', 'GRANAT', 'GRANBERRY', 'GRANCARE', 'GRAND',\n",
       "       \"GRAND'S\", 'GRAND-DAUGHTER', 'GRANDA', \"GRANDAD'S\", 'GRANDBERRY',\n",
       "       'GRANDCHAMP', 'GRANDCHILD', 'GRANDCHILD(1)', 'GRANDCHILDREN',\n",
       "       'GRANDCHILDREN(1)', \"GRANDCHILDREN'S\", \"GRANDCHILDREN'S(1)\",\n",
       "       'GRANDDAUGHTER', 'GRANDE', 'GRANDER', 'GRANDEST', 'GRANDEUR',\n",
       "       'GRANDFATHERLY', 'GRANDFIELD', 'GRANDI', 'GRANDILLO',\n",
       "       'GRANDILOQUENT', 'GRANDIN', 'GRANDIOSE', 'GRANDIOSE(1)', 'GRANDIS',\n",
       "       'GRANDISON', 'GRANDKID', 'GRANDKID(1)', 'GRANDKIDS',\n",
       "       'GRANDKIDS(1)', 'GRANDLY', 'GRANDMA', \"GRANDMA'S\", 'GRANDMAS',\n",
       "       'GRANDMASTER', 'GRANDMET', 'GRANDNEPHEW', 'GRANDNEPHEWS',\n",
       "       'GRANDON', 'GRANDPA', \"GRANDPA'S\", 'GRANDPARENT', 'GRANDPARENTS',\n",
       "       \"GRANDPARENTS'\", 'GRANDPAS', 'GRANDPRE', 'GRANDS', 'GRANDSON',\n",
       "       \"GRANDSON'S\", 'GRANDSONS', 'GRANDSTAFF', 'GRANDSTAND',\n",
       "       'GRANDSTANDING', 'GRANDT', 'GRANDUNCLE', 'GRANDUNCLES',\n",
       "       'GRANDVIEW', 'GRANDY', 'GRANER', 'GRANESE', 'GRANEY', 'GRANFIELD',\n",
       "       'GRANGE', 'GRANGER', 'GRANGES', 'GRANHOLM', 'GRANITE', 'GRANITO',\n",
       "       'GRANLUND', 'GRANNIES', 'GRANNIS', 'GRANNY', 'GRANOFF',\n",
       "       'GRANQUIST', 'GRANT', \"GRANT'S\", 'GRANTED', 'GRANTED(1)',\n",
       "       'GRANTED(3)', 'GRANTING', 'GRANTING(1)', 'GRANTLAND', 'GRANTOR',\n",
       "       'GRANTORS', 'GRANTREE', \"GRANTREE'S\", 'GRANTS', 'GRANTZ',\n",
       "       'GRANULAR', 'GRANULE', 'GRANULES', 'GRANVILLE', \"GRANVILLE'S\",\n",
       "       'GRANZ', 'GRANZOW', 'GRAPH', 'GRAPHIC', 'GRAPHICALLY', 'GRAPHICS',\n",
       "       \"GRAPHICS'\", 'GRAPHOLOGY', 'GRAPHS', 'GRAPPLING', 'GRAS',\n",
       "       'GRAS(1)', 'GRASP', 'GRASS', 'GRASSE', 'GRASSED', 'GRASSEL',\n",
       "       'GRASSER', 'GRASSFIELD', \"GRASSFIELD'S\", 'GRASSGREEN', 'GRASSI',\n",
       "       'GRASSINGS', 'GRASSL', 'GRASSLAND', 'GRASSLANDS', 'GRASSLEY',\n",
       "       'GRASSO', 'GRASSROOT', 'GRASSROOTS', 'GRASSY', 'GRASTY', 'GRATA',\n",
       "       'GRATER', 'GRATZ', 'GRAU', 'GRAUE', 'GRAUE(1)', 'GRAUEL(1)',\n",
       "       'GRAUER(1)', 'GRAUNKE', 'GRAVATT', 'GRAVE', 'GRAVEL', 'GRAVELL',\n",
       "       'GRAVELLE', 'GRAVELLY', 'GRAVELY', 'GRAVEN', 'GRAVER', 'GRAVES',\n",
       "       \"GRAVES'S\", 'GRAVESTONE', 'GRAVETT', 'GRAVETTE', 'GRAVEYARD',\n",
       "       'GRAVEYARDS', 'GRAVIES', 'GRAVINA', 'GRAVINO', 'GRAVITT',\n",
       "       \"GRAVITT'S\", 'GRAVITY', 'GRAVITY(1)', 'GRAVLEY', 'GRAVLIN',\n",
       "       'GRAVY', 'GRAY', \"GRAY'S\", 'GRAYE', 'GRAYS', 'GRAZE', 'GRAZED',\n",
       "       'GREANEY', 'GREAR', 'GREASE', 'GREASED', 'GREASER', 'GREASEWOOD',\n",
       "       'GREASING', 'GREASON', 'GREASY', 'GREAT-GRANDFATHER',\n",
       "       'GREAT-GRANDMOTHER', 'GREATER', 'GREATLY', 'GREAVE', 'GREAVES',\n",
       "       'GREB', 'GREBE', 'GREBER', 'GREBNER', 'GRECH', 'GREDE', 'GREEAR',\n",
       "       'GREECE', \"GREECE'S\", 'GREED', 'GREEDIER', 'GREEDILY', 'GREEDY',\n",
       "       'GREEK', 'GREEKS', 'GREELEY', 'GREELEYVILLE', 'GREELIEVILLE',\n",
       "       'GREELY', 'GREEN', \"GREEN'S\", 'GREENAN', \"GREENBACK'S\",\n",
       "       'GREENBACKS', 'GREENBELT', \"GREENBERG'S\", 'GREENBLATT',\n",
       "       'GREENBURY', 'GREENBUSH', 'GREENCASTLE', 'GREENE', \"GREENE'S\",\n",
       "       'GREENED', 'GREENER', 'GREENERY', 'GREENEST', 'GREENFELD',\n",
       "       \"GREENFELD'S\", 'GREENFELL', \"GREENFELL'S\", 'GREENFIELD',\n",
       "       \"GREENFIELD'S\", 'GREENHALGH', 'GREENHAM', 'GREENHAW', 'GREENHILL',\n",
       "       'GREENHOE', 'GREENHOUSE', 'GREENHOUSES', 'GREENHUT', 'GREENIAUS',\n",
       "       'GREENIDGE', 'GREENING', 'GREENISH', 'GREENLAND', 'GREENLAND(1)',\n",
       "       'GREENLAW', 'GREENLEAF', 'GREENLEE', 'GREENLEES', 'GREENLEY',\n",
       "       'GREENLY', 'GREENMAIL', 'GREENMAILER', 'GREENMAN', 'GREENNESS',\n",
       "       'GREENO', 'GREENOUGH', 'GREENPEACE', \"GREENPEACE'S\", 'GREENS',\n",
       "       \"GREENS'\", 'GREENSBORO', 'GREENSHIELD', 'GREENSHIELDS',\n",
       "       'GREENSLADE', 'GREENSPUN', 'GREENSTEIN(1)', 'GREENSTONE',\n",
       "       'GREENSTREET', 'GREENUP', 'GREENVALE', 'GREENVILLE', 'GREENWALD',\n",
       "       \"GREENWALD'S\", 'GREENWALDS', 'GREENWALT', 'GREENWAY', 'GREENWELL',\n",
       "       'GREENWICH(1)', 'GREENWOOD', 'GREER', 'GREESON', 'GREET',\n",
       "       'GREETED', 'GREETED(1)', 'GREETING', 'GREETINGS', 'GREETS',\n",
       "       'GREEVER', 'GREFE', 'GREFF', 'GREG', \"GREG'S\", 'GREGA', 'GREGG',\n",
       "       'GREGGS', 'GREGOIRE', 'GREGSTON', 'GREGUS', 'GREIF', 'GREIFF',\n",
       "       'GREIFF(1)', 'GREIG', 'GREIM', 'GREINER', 'GREINKE', 'GREIS',\n",
       "       'GREIWE', 'GRELL', 'GRELLA', 'GRELLE', 'GRENDA', 'GRENIER',\n",
       "       'GRESH', 'GRESS', 'GRETA', \"GRETA'S\", 'GRETE', 'GRETH',\n",
       "       'GRETZINGER', 'GREUEL', 'GREUNKE', 'GREVE', 'GREVER', 'GREW',\n",
       "       'GREWAL', 'GREWE', 'GREY', \"GREY'S\", 'GRICE', 'GRID', \"GRID'S\",\n",
       "       'GRIDLEY', \"GRIDLEY'S\", 'GRIDLOCK', \"GRIDLOCK'S\", 'GRIDLOCKED',\n",
       "       'GRIDLOCKS', 'GRIDS', 'GRIEB', 'GRIEDER', 'GRIEF', 'GRIEGER',\n",
       "       'GRIEME', 'GRIEP', 'GRIER(1)', \"GRIER'S(1)\"], dtype='<U34')"
      ]
     },
     "execution_count": 14,
     "metadata": {},
     "output_type": "execute_result"
    }
   ],
   "source": [
    "res_words[:1000]"
   ]
  },
  {
   "cell_type": "code",
   "execution_count": 19,
   "metadata": {},
   "outputs": [
    {
     "data": {
      "text/plain": [
       "0.9766210961016647"
      ]
     },
     "execution_count": 19,
     "metadata": {},
     "output_type": "execute_result"
    }
   ],
   "source": [
    "vec = lookup[\"BRAND\"]\n",
    "clf.predict_proba([vec])[0][1]"
   ]
  },
  {
   "cell_type": "code",
   "execution_count": null,
   "metadata": {},
   "outputs": [],
   "source": []
  }
 ],
 "metadata": {
  "kernelspec": {
   "display_name": "Python 3",
   "language": "python",
   "name": "python3"
  },
  "language_info": {
   "codemirror_mode": {
    "name": "ipython",
    "version": 3
   },
   "file_extension": ".py",
   "mimetype": "text/x-python",
   "name": "python",
   "nbconvert_exporter": "python",
   "pygments_lexer": "ipython3",
   "version": "3.8.2"
  }
 },
 "nbformat": 4,
 "nbformat_minor": 4
}
