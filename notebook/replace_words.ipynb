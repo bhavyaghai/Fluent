{
 "cells": [
  {
   "cell_type": "markdown",
   "metadata": {},
   "source": [
    "## Find less biased neighbors"
   ]
  },
  {
   "cell_type": "code",
   "execution_count": 24,
   "metadata": {},
   "outputs": [],
   "source": [
    "import numpy as np\n",
    "from __future__ import division\n",
    "import gensim.models.keyedvectors as word2vec\n",
    "from numpy.linalg import norm\n",
    "from scipy.spatial.distance import cosine\n",
    "from scipy.stats import pearsonr\n",
    "from gensim.models import KeyedVectors"
   ]
  },
  {
   "cell_type": "code",
   "execution_count": 25,
   "metadata": {},
   "outputs": [],
   "source": [
    "def unit_vector(vec):\n",
    "    return vec/norm(vec)"
   ]
  },
  {
   "cell_type": "code",
   "execution_count": 26,
   "metadata": {},
   "outputs": [],
   "source": [
    "#model =  word2vec.KeyedVectors.load_word2vec_format('./data/word2vec_50k.bin', binary=True)\n",
    "model = KeyedVectors.load_word2vec_format('../data/word_embeddings/glove.wikipedia.bin', binary=True)  "
   ]
  },
  {
   "cell_type": "code",
   "execution_count": 27,
   "metadata": {},
   "outputs": [],
   "source": [
    "# calculate bias direction when we have group of words not pairs\n",
    "def groupBiasDirection(gp1, gp2):\n",
    "    print(gp1,gp2)\n",
    "    dim = len(model[\"he\"])\n",
    "    g1,g2 = np.zeros((dim,), dtype=float), np.zeros((dim,), dtype=float)\n",
    "    for p in gp1:\n",
    "        p = p.strip()\n",
    "        if p not in model:\n",
    "            continue\n",
    "        p_vec = model[p]/norm(model[p])\n",
    "        g1 = np.add(g1,p_vec)\n",
    "\n",
    "    for q in gp2:\n",
    "        q = q.strip()\n",
    "        if q not in model:\n",
    "            continue\n",
    "        q_vec = model[q]/norm(model[q])\n",
    "        g2 = np.add(g2,q_vec) \n",
    "\n",
    "    g1, g2 = g1/norm(g1), g2/norm(g2)\n",
    "    return (g1,g2)\n"
   ]
  },
  {
   "cell_type": "code",
   "execution_count": 28,
   "metadata": {},
   "outputs": [],
   "source": [
    "gender_bias = [(\"man\",\"boy\",\"he\",\"father\",\"son\",\"guy\",\"male\",\"his\",\"himself\",\"john\"),(\"woman\",\"girl\",\"she\",\"mother\",\"daughter\",\"gal\",\"female\",\"her\",\"herself\",\"mary\")]\n",
    "race_bias = [(\"african\",\"black\"),(\"european\",\"white\")]"
   ]
  },
  {
   "cell_type": "code",
   "execution_count": 29,
   "metadata": {},
   "outputs": [
    {
     "name": "stdout",
     "output_type": "stream",
     "text": [
      "(('man', 'boy', 'he', 'father', 'son', 'guy', 'male', 'his', 'himself', 'john'), ('woman', 'girl', 'she', 'mother', 'daughter', 'gal', 'female', 'her', 'herself', 'mary'))\n",
      "(('african', 'black'), ('european', 'white'))\n"
     ]
    }
   ],
   "source": [
    "g1, g2 = groupBiasDirection(gender_bias[0],gender_bias[1])\n",
    "g3, g4 = groupBiasDirection(race_bias[0],race_bias[1])"
   ]
  },
  {
   "cell_type": "code",
   "execution_count": 30,
   "metadata": {},
   "outputs": [],
   "source": [
    "def find_bias_limits(g1,g2):\n",
    "    min_bias, max_bias = 0,0\n",
    "    for w in model.wv.vocab:\n",
    "        bias = round(cosine(g1,model[w])-cosine(g2,model[w]),5)\n",
    "        if bias<min_bias:\n",
    "            min_bias = bias\n",
    "        if bias>max_bias:\n",
    "            max_bias = bias\n",
    "    return (min_bias, max_bias)"
   ]
  },
  {
   "cell_type": "code",
   "execution_count": 31,
   "metadata": {},
   "outputs": [],
   "source": [
    "def get_bias_score(word_list):\n",
    "    out = []\n",
    "    for t in word_list:\n",
    "        gen_bias = round(cosine(g1,model[t])-cosine(g2,model[t]),5)\n",
    "        race_bias = round(cosine(g3,model[t])-cosine(g4,model[t]),5)\n",
    "        out.append((t,gen_bias,race_bias))\n",
    "    return out"
   ]
  },
  {
   "cell_type": "code",
   "execution_count": 32,
   "metadata": {},
   "outputs": [
    {
     "name": "stderr",
     "output_type": "stream",
     "text": [
      "/home/bhavya/anaconda2/envs/semantic/lib/python2.7/site-packages/ipykernel/__main__.py:3: DeprecationWarning: Call to deprecated `wv` (Attribute will be removed in 4.0.0, use self instead).\n",
      "  app.launch_new_instance()\n"
     ]
    },
    {
     "data": {
      "text/plain": [
       "(-0.30163, 0.30689)"
      ]
     },
     "execution_count": 32,
     "metadata": {},
     "output_type": "execute_result"
    }
   ],
   "source": [
    "# gender bias limits\n",
    "find_bias_limits(g1,g2)"
   ]
  },
  {
   "cell_type": "code",
   "execution_count": 33,
   "metadata": {},
   "outputs": [
    {
     "name": "stderr",
     "output_type": "stream",
     "text": [
      "/home/bhavya/anaconda2/envs/semantic/lib/python2.7/site-packages/ipykernel/__main__.py:3: DeprecationWarning: Call to deprecated `wv` (Attribute will be removed in 4.0.0, use self instead).\n",
      "  app.launch_new_instance()\n"
     ]
    },
    {
     "data": {
      "text/plain": [
       "(-0.33754, 0.41024)"
      ]
     },
     "execution_count": 33,
     "metadata": {},
     "output_type": "execute_result"
    }
   ],
   "source": [
    "# racial bias limits\n",
    "find_bias_limits(g3,g4)"
   ]
  },
  {
   "cell_type": "code",
   "execution_count": 34,
   "metadata": {},
   "outputs": [
    {
     "data": {
      "text/plain": [
       "(0.22481038041674484, 0.5113719887504861)"
      ]
     },
     "execution_count": 34,
     "metadata": {},
     "output_type": "execute_result"
    }
   ],
   "source": [
    "cosine(g1, model[\"he\"]),cosine(g2, model[\"he\"])"
   ]
  },
  {
   "cell_type": "code",
   "execution_count": 35,
   "metadata": {},
   "outputs": [
    {
     "data": {
      "text/plain": [
       "(0.42648274233844674, 0.18502498465456219)"
      ]
     },
     "execution_count": 35,
     "metadata": {},
     "output_type": "execute_result"
    }
   ],
   "source": [
    "cosine(g1, model[\"she\"]),cosine(g2, model[\"she\"])"
   ]
  },
  {
   "cell_type": "code",
   "execution_count": 36,
   "metadata": {},
   "outputs": [
    {
     "data": {
      "text/plain": [
       "[('he', -0.28656, 0.11378),\n",
       " ('black', -0.0207, -0.28259),\n",
       " ('gangster', -0.14942, -0.11153),\n",
       " ('she', 0.24146, 0.03988)]"
      ]
     },
     "execution_count": 36,
     "metadata": {},
     "output_type": "execute_result"
    }
   ],
   "source": [
    "get_bias_score([\"he\",\"black\",\"gangster\",\"she\"])"
   ]
  },
  {
   "cell_type": "code",
   "execution_count": 37,
   "metadata": {},
   "outputs": [
    {
     "data": {
      "text/plain": [
       "([('gangster', -0.14942, -0.11153)], 0.26095)"
      ]
     },
     "execution_count": 37,
     "metadata": {},
     "output_type": "execute_result"
    }
   ],
   "source": [
    "temp = get_bias_score([\"gangster\"])\n",
    "score = abs(temp[0][1])+abs(temp[0][2])\n",
    "temp, score"
   ]
  },
  {
   "cell_type": "code",
   "execution_count": 36,
   "metadata": {},
   "outputs": [
    {
     "name": "stdout",
     "output_type": "stream",
     "text": [
      "gangsters 0.691962063313 [(u'gangsters', -0.10139, -0.09662)] 0.19801\n",
      "mobster 0.668154299259 [(u'mobster', -0.05839, -0.06257)] 0.12096\n",
      "mobsters 0.590787112713 [(u'mobsters', -0.09148, -0.03457)] 0.12605\n",
      "yakuza 0.572185277939 [(u'yakuza', -0.00664, -0.05221)] 0.05885\n",
      "mafia 0.554398179054 [(u'mafia', -0.08165, -0.02644)] 0.10809\n",
      "underworld 0.545395195484 [(u'underworld', -0.0417, -0.04791)] 0.08961\n",
      "capone 0.509489476681 [(u'capone', -0.09477, -0.05571)] 0.15048\n",
      "mob 0.501596093178 [(u'mob', -0.12019, -0.02848)] 0.14867\n",
      "cop 0.497004270554 [(u'cop', -0.04364, -0.06445)] 0.10809\n",
      "hitman 0.493532955647 [(u'hitman', -0.08026, -0.10865)] 0.18891\n",
      "gang 0.492881029844 [(u'gang', -0.07592, -0.08718)] 0.1631\n",
      "godfather 0.487726330757 [(u'godfather', -0.08341, -0.08953)] 0.17294\n",
      "reputed 0.463059216738 [(u'reputed', -0.09804, -0.03545)] 0.13349\n",
      "pimp 0.453753232956 [(u'pimp', 0.03977, -0.12086)] 0.16063\n",
      "notorious 0.44203749299 [(u'notorious', -0.04702, -0.0681)] 0.11512\n",
      "rap 0.423149883747 [(u'rap', -0.02222, -0.16905)] 0.19127\n",
      "rappers 0.42135360837 [(u'rappers', -0.02041, -0.15719)] 0.1776\n",
      "thriller 0.41481205821 [(u'thriller', 0.06321, -0.07075)] 0.13396\n",
      "bandit 0.414761871099 [(u'bandit', -0.01448, -0.04563)] 0.06011\n",
      "gangsta 0.409723609686 [(u'gangsta', -0.00257, -0.17255)] 0.17512\n",
      "movie 0.409409105778 [(u'movie', 0.00933, -0.05247)] 0.0618\n",
      "robber 0.406769514084 [(u'robber', -0.08257, -0.03476)] 0.11733\n",
      "wannabe 0.40524238348 [(u'wannabe', 0.03157, -0.06775)] 0.09932\n",
      "rapper 0.403189182281 [(u'rapper', 0.00445, -0.1529)] 0.15735\n",
      "gangland 0.400401234627 [(u'gangland', -0.07728, -0.05098)] 0.12826\n",
      "gangs 0.399048566818 [(u'gangs', -0.08748, -0.10161)] 0.18909\n",
      "fugitive 0.397007018328 [(u'fugitive', -0.09604, 0.00245)] 0.09849\n",
      "assassins 0.395235836506 [(u'assassins', -0.07134, -0.05871)] 0.13005\n",
      "melodrama 0.394228935242 [(u'melodrama', 0.10541, -0.07318)] 0.17859\n",
      "slasher 0.387447267771 [(u'slasher', 0.04143, -0.05056)] 0.09199\n",
      "cops 0.385679602623 [(u'cops', -0.06927, -0.0997)] 0.16897\n",
      "informant 0.384061694145 [(u'informant', -0.09434, -0.04304)] 0.13738\n",
      "biker 0.383809566498 [(u'biker', 0.00223, -0.05548)] 0.05771\n",
      "crime 0.383357286453 [(u'crime', -0.0481, -0.02463)] 0.07273\n",
      "gambler 0.380546927452 [(u'gambler', -0.08714, -0.08859)] 0.17573\n",
      "starring 0.380157500505 [(u'starring', 0.0726, -0.04794)] 0.12054\n",
      "kingpin 0.378092467785 [(u'kingpin', -0.0718, -0.0136)] 0.0854\n",
      "flicks 0.377318501472 [(u'flicks', 0.01807, -0.02114)] 0.03921\n",
      "scorsese 0.373647272587 [(u'scorsese', -0.0456, -0.07612)] 0.12172\n",
      "caper 0.372983664274 [(u'caper', 0.04092, -0.08433)] 0.12525\n",
      "ruthless 0.372225165367 [(u'ruthless', -0.03298, -0.04501)] 0.07799\n",
      "spoof 0.367533326149 [(u'spoof', 0.00738, -0.07453)] 0.08191\n",
      "gambino 0.366425275803 [(u'gambino', -0.08018, -0.00337)] 0.08355\n",
      "whitey 0.364643931389 [(u'whitey', -0.14743, 0.01557)] 0.163\n",
      "movies 0.364161968231 [(u'movies', -0.01033, -0.0485)] 0.05883\n",
      "vigilante 0.363161832094 [(u'vigilante', -0.01104, -0.15353)] 0.16457\n",
      "sleazy 0.361298084259 [(u'sleazy', 0.00774, -0.03362)] 0.04136\n",
      "bollywood 0.361206561327 [(u'bollywood', 0.11213, -0.10032)] 0.21245\n",
      "assassin 0.360546708107 [(u'assassin', -0.08571, -0.07894)] 0.16465\n"
     ]
    }
   ],
   "source": [
    "neigh = model.similar_by_word('gangster',50)\n",
    "for x in neigh:\n",
    "    #print x[0],x[1]\n",
    "    temp = get_bias_score([x[0]])\n",
    "    if abs(temp[0][1])+abs(temp[0][2])<score:\n",
    "        print x[0],x[1], temp, abs(temp[0][1])+abs(temp[0][2])"
   ]
  },
  {
   "cell_type": "markdown",
   "metadata": {},
   "source": [
    "<h2>Find Synonyms using wordNet</h2>"
   ]
  },
  {
   "cell_type": "code",
   "execution_count": 8,
   "metadata": {},
   "outputs": [
    {
     "name": "stdout",
     "output_type": "stream",
     "text": [
      "[nltk_data] Downloading package wordnet to /home/bhavya/nltk_data...\n",
      "[nltk_data]   Package wordnet is already up-to-date!\n"
     ]
    }
   ],
   "source": [
    "import nltk\n",
    "nltk.download('wordnet')\n",
    "from nltk.corpus import wordnet as wn"
   ]
  },
  {
   "cell_type": "code",
   "execution_count": 9,
   "metadata": {},
   "outputs": [
    {
     "name": "stdout",
     "output_type": "stream",
     "text": [
      "(u'leader.n.01', [u'leader'])\n",
      "(u'drawing_card.n.02', [u'drawing_card', u'loss_leader', u'leader'])\n"
     ]
    }
   ],
   "source": [
    "for ss in wn.synsets('leader'):\n",
    "    print(ss.name(), ss.lemma_names())"
   ]
  },
  {
   "cell_type": "code",
   "execution_count": 19,
   "metadata": {},
   "outputs": [
    {
     "ename": "TypeError",
     "evalue": "'instancemethod' object has no attribute '__getitem__'",
     "output_type": "error",
     "traceback": [
      "\u001b[0;31m---------------------------------------------------------------------------\u001b[0m",
      "\u001b[0;31mTypeError\u001b[0m                                 Traceback (most recent call last)",
      "\u001b[0;32m<ipython-input-19-85e16bd31b2e>\u001b[0m in \u001b[0;36m<module>\u001b[0;34m()\u001b[0m\n\u001b[1;32m      3\u001b[0m \u001b[0;32mfor\u001b[0m \u001b[0ms\u001b[0m \u001b[0;32min\u001b[0m \u001b[0msyns\u001b[0m\u001b[0;34m:\u001b[0m\u001b[0;34m\u001b[0m\u001b[0m\n\u001b[1;32m      4\u001b[0m     \u001b[0;31m#for l in s.lemmas:\u001b[0m\u001b[0;34m\u001b[0m\u001b[0;34m\u001b[0m\u001b[0m\n\u001b[0;32m----> 5\u001b[0;31m     \u001b[0;32mprint\u001b[0m\u001b[0;34m(\u001b[0m\u001b[0ms\u001b[0m\u001b[0;34m.\u001b[0m\u001b[0mlemmas\u001b[0m\u001b[0;34m[\u001b[0m\u001b[0;36m0\u001b[0m\u001b[0;34m]\u001b[0m\u001b[0;34m.\u001b[0m\u001b[0mname\u001b[0m\u001b[0;34m)\u001b[0m\u001b[0;34m\u001b[0m\u001b[0m\n\u001b[0m",
      "\u001b[0;31mTypeError\u001b[0m: 'instancemethod' object has no attribute '__getitem__'"
     ]
    }
   ],
   "source": [
    "syns = wn.synsets(\"car\")\n",
    "#[l.name for s in syns for l in s.lemmas]\n",
    "for s in syns:\n",
    "    #for l in s.lemmas:\n",
    "    print(s.lemmas[0].name)"
   ]
  },
  {
   "cell_type": "code",
   "execution_count": 23,
   "metadata": {},
   "outputs": [
    {
     "name": "stdout",
     "output_type": "stream",
     "text": [
      "India\n",
      "Republic_of_India\n",
      "Bharat\n"
     ]
    }
   ],
   "source": [
    "for synset in wn.synsets('india'):\n",
    "    for lemma in synset.lemmas():\n",
    "        print lemma.name()"
   ]
  },
  {
   "cell_type": "code",
   "execution_count": 38,
   "metadata": {},
   "outputs": [
    {
     "name": "stderr",
     "output_type": "stream",
     "text": [
      "/home/bhavya/anaconda2/envs/semantic/lib/python2.7/site-packages/gensim/matutils.py:737: FutureWarning: Conversion of the second argument of issubdtype from `int` to `np.signedinteger` is deprecated. In future, it will be treated as `np.int64 == np.dtype(int).type`.\n",
      "  if np.issubdtype(vec.dtype, np.int):\n"
     ]
    },
    {
     "data": {
      "text/plain": [
       "[(u'indian', 0.7355823516845703),\n",
       " (u'pakistan', 0.7285579442977905),\n",
       " (u'delhi', 0.6846907138824463),\n",
       " (u'bangladesh', 0.6203191876411438),\n",
       " (u'lanka', 0.609517514705658),\n",
       " (u'sri', 0.6011613607406616),\n",
       " (u'kashmir', 0.5746493935585022),\n",
       " (u'nepal', 0.5421023368835449),\n",
       " (u'pradesh', 0.5405811071395874),\n",
       " (u'maharashtra', 0.518537700176239),\n",
       " (u'mumbai', 0.5122859477996826),\n",
       " (u'malaysia', 0.5116418600082397),\n",
       " (u'gujarat', 0.5061731934547424),\n",
       " (u'singh', 0.5054082870483398),\n",
       " (u'karnataka', 0.505253791809082),\n",
       " (u'australia', 0.5039133429527283),\n",
       " (u'subcontinent', 0.5021264553070068),\n",
       " (u'bangalore', 0.4987502694129944),\n",
       " (u'punjab', 0.4946592450141907),\n",
       " (u'china', 0.490691214799881),\n",
       " (u'uttar', 0.490534245967865),\n",
       " (u'nadu', 0.48967570066452026),\n",
       " (u'bengal', 0.48696663975715637),\n",
       " (u'pakistani', 0.48690342903137207),\n",
       " (u'kerala', 0.4860078692436218),\n",
       " (u'hindu', 0.48459818959236145),\n",
       " (u'rajasthan', 0.4779876172542572),\n",
       " (u'bihar', 0.4662206172943115),\n",
       " (u'andhra', 0.4638760983943939),\n",
       " (u'thailand', 0.4611857533454895),\n",
       " (u'countries', 0.45860934257507324),\n",
       " (u'indonesia', 0.45638972520828247),\n",
       " (u'bombay', 0.449949711561203),\n",
       " (u'asia', 0.449934184551239),\n",
       " (u'africa', 0.44857072830200195),\n",
       " (u'vajpayee', 0.4471805691719055),\n",
       " (u'assam', 0.44599175453186035),\n",
       " (u'hyderabad', 0.4401484727859497),\n",
       " (u'calcutta', 0.440109521150589),\n",
       " (u'bhutan', 0.43910104036331177),\n",
       " (u'jammu', 0.43376412987709045),\n",
       " (u'cricket', 0.4333037734031677),\n",
       " (u'states', 0.43071234226226807),\n",
       " (u'tamil', 0.42834365367889404),\n",
       " (u'zealand', 0.4276537299156189),\n",
       " (u'brazil', 0.4245351552963257),\n",
       " (u'lahore', 0.42089414596557617),\n",
       " (u'test', 0.42062658071517944),\n",
       " (u'lankan', 0.41897156834602356),\n",
       " (u'zimbabwe', 0.4183450937271118)]"
      ]
     },
     "execution_count": 38,
     "metadata": {},
     "output_type": "execute_result"
    }
   ],
   "source": [
    "model.similar_by_word('india',50)"
   ]
  },
  {
   "cell_type": "code",
   "execution_count": null,
   "metadata": {},
   "outputs": [],
   "source": []
  }
 ],
 "metadata": {
  "kernelspec": {
   "display_name": "Python [conda env:semantic]",
   "language": "python",
   "name": "conda-env-semantic-py"
  },
  "language_info": {
   "codemirror_mode": {
    "name": "ipython",
    "version": 3
   },
   "file_extension": ".py",
   "mimetype": "text/x-python",
   "name": "python",
   "nbconvert_exporter": "python",
   "pygments_lexer": "ipython3",
   "version": "3.7.0"
  }
 },
 "nbformat": 4,
 "nbformat_minor": 2
}
