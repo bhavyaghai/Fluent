{
 "cells": [
  {
   "cell_type": "markdown",
   "metadata": {},
   "source": [
    "https://spacy.io/usage/linguistic-features#tokenization"
   ]
  },
  {
   "cell_type": "code",
   "execution_count": 1,
   "metadata": {},
   "outputs": [],
   "source": [
    "import spacy\n",
    "nlp = spacy.load(\"en_core_web_sm\")"
   ]
  },
  {
   "cell_type": "code",
   "execution_count": 2,
   "metadata": {},
   "outputs": [
    {
     "data": {
      "text/plain": [
       "'Joe Biden’s President-Elect Acceptance Speech\\n\\nMy fellow Americans, the people of this nation have s'"
      ]
     },
     "execution_count": 2,
     "metadata": {},
     "output_type": "execute_result"
    }
   ],
   "source": [
    "raw_text = None\n",
    "with open(\"../data/\"+'default_content.txt', 'r', encoding=\"utf8\") as f:\n",
    "    raw_text = f.read()\n",
    "    #print(data)\n",
    "\n",
    "raw_text[:100]"
   ]
  },
  {
   "cell_type": "code",
   "execution_count": 3,
   "metadata": {},
   "outputs": [],
   "source": [
    "doc = nlp(raw_text)"
   ]
  },
  {
   "cell_type": "code",
   "execution_count": 6,
   "metadata": {},
   "outputs": [
    {
     "data": {
      "text/plain": [
       "['built',\n",
       " 'steady',\n",
       " 'able',\n",
       " 'woman',\n",
       " 'vice',\n",
       " '12',\n",
       " 'been',\n",
       " 'advisers',\n",
       " 'ethnicity',\n",
       " 'until']"
      ]
     },
     "execution_count": 6,
     "metadata": {},
     "output_type": "execute_result"
    }
   ],
   "source": [
    "# Tokenization\n",
    "tokens = []\n",
    "for t in doc:\n",
    "    tokens.append(t.text)\n",
    "    \n",
    "tokens = list(set(tokens))\n",
    "tokens[:10]"
   ]
  },
  {
   "cell_type": "code",
   "execution_count": 22,
   "metadata": {},
   "outputs": [
    {
     "name": "stdout",
     "output_type": "stream",
     "text": [
      "Joe Biden PERSON\n",
      "Acceptance Speech FAC\n",
      "Americans NORP\n",
      "We the People WORK_OF_ART\n",
      "74 million CARDINAL\n",
      "a United States GPE\n",
      "America GPE\n",
      "America GPE\n",
      "America GPE\n",
      "so many millions CARDINAL\n",
      "Americans NORP\n",
      "Jill PERSON\n",
      "Jill PERSON\n",
      "Hunter PERSON\n",
      "Ashley PERSON\n",
      "Jill PERSON\n",
      "America GPE\n",
      "a great day DATE\n",
      "the White House FAC\n",
      "Jill PERSON\n",
      "first ORDINAL\n",
      "— Kamala Harris PERSON\n",
      "first ORDINAL\n",
      "first Black ORG\n",
      "first ORDINAL\n",
      "South Asian NORP\n",
      "first ORDINAL\n",
      "tonight TIME\n",
      "so many years DATE\n",
      "America GPE\n",
      "Kamala PERSON\n",
      "Doug PERSON\n",
      "Bidens PERSON\n",
      "Democrats NORP\n",
      "Republicans NORP\n",
      "Independents NORP\n",
      "Urban ORG\n",
      "Asian NORP\n",
      "Native American NORP\n",
      "African-American NORP\n",
      "America GPE\n",
      "Trump PERSON\n",
      "tonight TIME\n",
      "Americans NORP\n",
      "Bible WORK_OF_ART\n",
      "America GPE\n",
      "Americans NORP\n",
      "Covid NORP\n",
      "Monday DATE\n",
      "the Biden-Harris Covid FAC\n",
      "Jan. 20, 2021 DATE\n",
      "Democrat NORP\n",
      "American NORP\n",
      "America GPE\n",
      "Democrats NORP\n",
      "Republicans NORP\n",
      "American NORP\n",
      "Congress ORG\n",
      "Democrats NORP\n",
      "Republicans NORP\n",
      "American NORP\n",
      "America GPE\n",
      "1860 DATE\n",
      "1932 DATE\n",
      "J.F.K. GPE\n",
      "1960 DATE\n",
      "New Frontier ORG\n",
      "12 years ago DATE\n",
      "Barack Obama PERSON\n",
      "America GPE\n",
      "America GPE\n",
      "Tonight TIME\n",
      "America GPE\n",
      "America GPE\n",
      "America GPE\n",
      "one CARDINAL\n",
      "America GPE\n",
      "America GPE\n",
      "America GPE\n",
      "America GPE\n",
      "America GPE\n",
      "America GPE\n",
      "the United States of America GPE\n",
      "the last days DATE\n",
      "Beau PERSON\n",
      "America GPE\n",
      "more than 230,000 CARDINAL\n",
      "this year DATE\n",
      "eagle ORG\n",
      "America GPE\n",
      "The United States of America GPE\n",
      "God PERSON\n"
     ]
    }
   ],
   "source": [
    "# Named entity recognition\n",
    "entities = []\n",
    "for ent in doc.ents:\n",
    "    print(ent.text, ent.label_)\n",
    "    entities.append(ent.text)\n",
    "\n",
    "#list(set(entities))"
   ]
  },
  {
   "cell_type": "code",
   "execution_count": null,
   "metadata": {},
   "outputs": [],
   "source": []
  }
 ],
 "metadata": {
  "kernelspec": {
   "display_name": "Python [conda env:fluent] *",
   "language": "python",
   "name": "conda-env-fluent-py"
  },
  "language_info": {
   "codemirror_mode": {
    "name": "ipython",
    "version": 3
   },
   "file_extension": ".py",
   "mimetype": "text/x-python",
   "name": "python",
   "nbconvert_exporter": "python",
   "pygments_lexer": "ipython3",
   "version": "3.8.5"
  }
 },
 "nbformat": 4,
 "nbformat_minor": 4
}
