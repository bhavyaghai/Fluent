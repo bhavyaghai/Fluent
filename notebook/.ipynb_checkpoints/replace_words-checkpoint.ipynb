{
 "cells": [
  {
   "cell_type": "markdown",
   "metadata": {},
   "source": [
    "## Find less biased neighbors"
   ]
  },
  {
   "cell_type": "code",
   "execution_count": 1,
   "metadata": {},
   "outputs": [],
   "source": [
    "import numpy as np\n",
    "from __future__ import division\n",
    "import gensim.models.keyedvectors as word2vec\n",
    "from numpy.linalg import norm\n",
    "from scipy.spatial.distance import cosine\n",
    "from scipy.stats import pearsonr\n",
    "from gensim.models import KeyedVectors"
   ]
  },
  {
   "cell_type": "code",
   "execution_count": 2,
   "metadata": {},
   "outputs": [],
   "source": [
    "def unit_vector(vec):\n",
    "    return vec/norm(vec)"
   ]
  },
  {
   "cell_type": "code",
   "execution_count": 4,
   "metadata": {},
   "outputs": [],
   "source": [
    "#model =  word2vec.KeyedVectors.load_word2vec_format('./data/word2vec_50k.bin', binary=True)\n",
    "model = KeyedVectors.load_word2vec_format('../data/word_embeddings/glove.wikipedia.bin', binary=True)  "
   ]
  },
  {
   "cell_type": "code",
   "execution_count": 5,
   "metadata": {},
   "outputs": [],
   "source": [
    "# calculate bias direction when we have group of words not pairs\n",
    "def groupBiasDirection(gp1, gp2):\n",
    "    print(gp1,gp2)\n",
    "    dim = len(model[\"he\"])\n",
    "    g1,g2 = np.zeros((dim,), dtype=float), np.zeros((dim,), dtype=float)\n",
    "    for p in gp1:\n",
    "        p = p.strip()\n",
    "        if p not in model:\n",
    "            continue\n",
    "        p_vec = model[p]/norm(model[p])\n",
    "        g1 = np.add(g1,p_vec)\n",
    "\n",
    "    for q in gp2:\n",
    "        q = q.strip()\n",
    "        if q not in model:\n",
    "            continue\n",
    "        q_vec = model[q]/norm(model[q])\n",
    "        g2 = np.add(g2,q_vec) \n",
    "\n",
    "    g1, g2 = g1/norm(g1), g2/norm(g2)\n",
    "    return (g1,g2)\n"
   ]
  },
  {
   "cell_type": "code",
   "execution_count": 6,
   "metadata": {},
   "outputs": [],
   "source": [
    "gender_bias = [(\"he\",\"him\",\"boy\"),(\"she\",\"her\",\"girl\")]\n",
    "race_bias = [(\"african\",\"black\"),(\"european\",\"white\")]"
   ]
  },
  {
   "cell_type": "code",
   "execution_count": 7,
   "metadata": {},
   "outputs": [
    {
     "name": "stdout",
     "output_type": "stream",
     "text": [
      "(('he', 'him', 'boy'), ('she', 'her', 'girl'))\n",
      "(('african', 'black'), ('european', 'white'))\n"
     ]
    }
   ],
   "source": [
    "g1, g2 = groupBiasDirection(gender_bias[0],gender_bias[1])\n",
    "g3, g4 = groupBiasDirection(race_bias[0],race_bias[1])"
   ]
  },
  {
   "cell_type": "code",
   "execution_count": 8,
   "metadata": {},
   "outputs": [],
   "source": [
    "def get_bias_score(word_list):\n",
    "    out = []\n",
    "    for t in word_list:\n",
    "        gen_bias = round(cosine(g1,model[t])-cosine(g2,model[t]),5)\n",
    "        race_bias = round(cosine(g3,model[t])-cosine(g4,model[t]),5)\n",
    "        out.append((t,gen_bias,race_bias))\n",
    "    return out"
   ]
  },
  {
   "cell_type": "code",
   "execution_count": 9,
   "metadata": {},
   "outputs": [
    {
     "data": {
      "text/plain": [
       "[('he', -0.27819, 0.11378),\n",
       " ('black', -0.0014, -0.28259),\n",
       " ('gangster', -0.10102, -0.11153),\n",
       " ('she', 0.24184, 0.03988)]"
      ]
     },
     "execution_count": 9,
     "metadata": {},
     "output_type": "execute_result"
    }
   ],
   "source": [
    "get_bias_score([\"he\",\"black\",\"gangster\",\"she\"])"
   ]
  },
  {
   "cell_type": "code",
   "execution_count": 34,
   "metadata": {},
   "outputs": [
    {
     "data": {
      "text/plain": [
       "([('gangster', -0.10102, -0.11153)], 0.21255000000000002)"
      ]
     },
     "execution_count": 34,
     "metadata": {},
     "output_type": "execute_result"
    }
   ],
   "source": [
    "temp = get_bias_score([\"gangster\"])\n",
    "score = abs(temp[0][1])+abs(temp[0][2])\n",
    "temp, score"
   ]
  },
  {
   "cell_type": "code",
   "execution_count": 36,
   "metadata": {},
   "outputs": [
    {
     "name": "stdout",
     "output_type": "stream",
     "text": [
      "gangsters 0.691962063313 [(u'gangsters', -0.10139, -0.09662)] 0.19801\n",
      "mobster 0.668154299259 [(u'mobster', -0.05839, -0.06257)] 0.12096\n",
      "mobsters 0.590787112713 [(u'mobsters', -0.09148, -0.03457)] 0.12605\n",
      "yakuza 0.572185277939 [(u'yakuza', -0.00664, -0.05221)] 0.05885\n",
      "mafia 0.554398179054 [(u'mafia', -0.08165, -0.02644)] 0.10809\n",
      "underworld 0.545395195484 [(u'underworld', -0.0417, -0.04791)] 0.08961\n",
      "capone 0.509489476681 [(u'capone', -0.09477, -0.05571)] 0.15048\n",
      "mob 0.501596093178 [(u'mob', -0.12019, -0.02848)] 0.14867\n",
      "cop 0.497004270554 [(u'cop', -0.04364, -0.06445)] 0.10809\n",
      "hitman 0.493532955647 [(u'hitman', -0.08026, -0.10865)] 0.18891\n",
      "gang 0.492881029844 [(u'gang', -0.07592, -0.08718)] 0.1631\n",
      "godfather 0.487726330757 [(u'godfather', -0.08341, -0.08953)] 0.17294\n",
      "reputed 0.463059216738 [(u'reputed', -0.09804, -0.03545)] 0.13349\n",
      "pimp 0.453753232956 [(u'pimp', 0.03977, -0.12086)] 0.16063\n",
      "notorious 0.44203749299 [(u'notorious', -0.04702, -0.0681)] 0.11512\n",
      "rap 0.423149883747 [(u'rap', -0.02222, -0.16905)] 0.19127\n",
      "rappers 0.42135360837 [(u'rappers', -0.02041, -0.15719)] 0.1776\n",
      "thriller 0.41481205821 [(u'thriller', 0.06321, -0.07075)] 0.13396\n",
      "bandit 0.414761871099 [(u'bandit', -0.01448, -0.04563)] 0.06011\n",
      "gangsta 0.409723609686 [(u'gangsta', -0.00257, -0.17255)] 0.17512\n",
      "movie 0.409409105778 [(u'movie', 0.00933, -0.05247)] 0.0618\n",
      "robber 0.406769514084 [(u'robber', -0.08257, -0.03476)] 0.11733\n",
      "wannabe 0.40524238348 [(u'wannabe', 0.03157, -0.06775)] 0.09932\n",
      "rapper 0.403189182281 [(u'rapper', 0.00445, -0.1529)] 0.15735\n",
      "gangland 0.400401234627 [(u'gangland', -0.07728, -0.05098)] 0.12826\n",
      "gangs 0.399048566818 [(u'gangs', -0.08748, -0.10161)] 0.18909\n",
      "fugitive 0.397007018328 [(u'fugitive', -0.09604, 0.00245)] 0.09849\n",
      "assassins 0.395235836506 [(u'assassins', -0.07134, -0.05871)] 0.13005\n",
      "melodrama 0.394228935242 [(u'melodrama', 0.10541, -0.07318)] 0.17859\n",
      "slasher 0.387447267771 [(u'slasher', 0.04143, -0.05056)] 0.09199\n",
      "cops 0.385679602623 [(u'cops', -0.06927, -0.0997)] 0.16897\n",
      "informant 0.384061694145 [(u'informant', -0.09434, -0.04304)] 0.13738\n",
      "biker 0.383809566498 [(u'biker', 0.00223, -0.05548)] 0.05771\n",
      "crime 0.383357286453 [(u'crime', -0.0481, -0.02463)] 0.07273\n",
      "gambler 0.380546927452 [(u'gambler', -0.08714, -0.08859)] 0.17573\n",
      "starring 0.380157500505 [(u'starring', 0.0726, -0.04794)] 0.12054\n",
      "kingpin 0.378092467785 [(u'kingpin', -0.0718, -0.0136)] 0.0854\n",
      "flicks 0.377318501472 [(u'flicks', 0.01807, -0.02114)] 0.03921\n",
      "scorsese 0.373647272587 [(u'scorsese', -0.0456, -0.07612)] 0.12172\n",
      "caper 0.372983664274 [(u'caper', 0.04092, -0.08433)] 0.12525\n",
      "ruthless 0.372225165367 [(u'ruthless', -0.03298, -0.04501)] 0.07799\n",
      "spoof 0.367533326149 [(u'spoof', 0.00738, -0.07453)] 0.08191\n",
      "gambino 0.366425275803 [(u'gambino', -0.08018, -0.00337)] 0.08355\n",
      "whitey 0.364643931389 [(u'whitey', -0.14743, 0.01557)] 0.163\n",
      "movies 0.364161968231 [(u'movies', -0.01033, -0.0485)] 0.05883\n",
      "vigilante 0.363161832094 [(u'vigilante', -0.01104, -0.15353)] 0.16457\n",
      "sleazy 0.361298084259 [(u'sleazy', 0.00774, -0.03362)] 0.04136\n",
      "bollywood 0.361206561327 [(u'bollywood', 0.11213, -0.10032)] 0.21245\n",
      "assassin 0.360546708107 [(u'assassin', -0.08571, -0.07894)] 0.16465\n"
     ]
    }
   ],
   "source": [
    "neigh = model.similar_by_word('gangster',50)\n",
    "for x in neigh:\n",
    "    #print x[0],x[1]\n",
    "    temp = get_bias_score([x[0]])\n",
    "    if abs(temp[0][1])+abs(temp[0][2])<score:\n",
    "        print x[0],x[1], temp, abs(temp[0][1])+abs(temp[0][2])"
   ]
  },
  {
   "cell_type": "code",
   "execution_count": null,
   "metadata": {},
   "outputs": [],
   "source": []
  }
 ],
 "metadata": {
  "kernelspec": {
   "display_name": "Python [conda env:semantic]",
   "language": "python",
   "name": "conda-env-semantic-py"
  },
  "language_info": {
   "codemirror_mode": {
    "name": "ipython",
    "version": 2
   },
   "file_extension": ".py",
   "mimetype": "text/x-python",
   "name": "python",
   "nbconvert_exporter": "python",
   "pygments_lexer": "ipython2",
   "version": "2.7.15"
  }
 },
 "nbformat": 4,
 "nbformat_minor": 2
}
