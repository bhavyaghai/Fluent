{
 "cells": [
  {
   "cell_type": "markdown",
   "metadata": {},
   "source": [
    "TED Talks transcripts\n",
    "https://www.kaggle.com/rounakbanik/ted-talks?select=transcripts.csv#"
   ]
  },
  {
   "cell_type": "code",
   "execution_count": 53,
   "metadata": {},
   "outputs": [],
   "source": [
    "import pandas as pd\n",
    "import spacy\n",
    "import numpy as np\n",
    "import pickle\n",
    "import re\n",
    "from sklearn import svm\n",
    "from scipy.stats import entropy\n",
    "\n",
    "from sklearn.metrics import *\n",
    "from matplotlib import pyplot as plt \n",
    "from collections import OrderedDict\n",
    "import random\n",
    "import requests"
   ]
  },
  {
   "cell_type": "code",
   "execution_count": 2,
   "metadata": {},
   "outputs": [
    {
     "name": "stdout",
     "output_type": "stream",
     "text": [
      "Phonetic embedding loaded !\n"
     ]
    },
    {
     "data": {
      "text/plain": [
       "116514"
      ]
     },
     "execution_count": 2,
     "metadata": {},
     "output_type": "execute_result"
    }
   ],
   "source": [
    "def load_phonetic_embedding():\n",
    "    lookup = None\n",
    "    # read phonetic embedding pickle file\n",
    "    path = \"../data/\"\n",
    "    with open(path+'phonetic_embd.pickle', 'rb') as handle:\n",
    "        lookup = pickle.load(handle)\n",
    "    print(\"Phonetic embedding loaded !\")\n",
    "    return lookup\n",
    "\n",
    "lookup = load_phonetic_embedding()\n",
    "\n",
    "len(list(lookup.keys()))"
   ]
  },
  {
   "cell_type": "code",
   "execution_count": 5,
   "metadata": {},
   "outputs": [
    {
     "data": {
      "text/plain": [
       "False"
      ]
     },
     "execution_count": 5,
     "metadata": {},
     "output_type": "execute_result"
    }
   ],
   "source": [
    "\"NY\" in lookup"
   ]
  },
  {
   "cell_type": "code",
   "execution_count": 28,
   "metadata": {},
   "outputs": [
    {
     "data": {
      "text/plain": [
       "False"
      ]
     },
     "execution_count": 28,
     "metadata": {},
     "output_type": "execute_result"
    }
   ],
   "source": [
    "\"alaska\" in lookup"
   ]
  },
  {
   "cell_type": "code",
   "execution_count": 6,
   "metadata": {},
   "outputs": [
    {
     "data": {
      "text/plain": [
       "0    Good morning. How are you?(Laughter)It's been ...\n",
       "1    Thank you so much, Chris. And it's truly a gre...\n",
       "2    (Music: \"The Sound of Silence,\" Simon & Garfun...\n",
       "3    If you're here today — and I'm very happy that...\n",
       "4    About 10 years ago, I took on the task to teac...\n",
       "Name: transcript, dtype: object"
      ]
     },
     "execution_count": 6,
     "metadata": {},
     "output_type": "execute_result"
    }
   ],
   "source": [
    "df = pd.read_csv(\"../data/TED_transcripts.csv\")\n",
    "df = df[\"transcript\"]\n",
    "df.head()"
   ]
  },
  {
   "cell_type": "code",
   "execution_count": 7,
   "metadata": {},
   "outputs": [
    {
     "data": {
      "text/plain": [
       "(2467,)"
      ]
     },
     "execution_count": 7,
     "metadata": {},
     "output_type": "execute_result"
    }
   ],
   "source": [
    "df.shape"
   ]
  },
  {
   "cell_type": "code",
   "execution_count": 9,
   "metadata": {},
   "outputs": [
    {
     "name": "stdout",
     "output_type": "stream",
     "text": [
      "2467\n"
     ]
    }
   ],
   "source": [
    "# Tokenize all documents\n",
    "nlp = spacy.load(\"en_core_web_sm\")\n",
    "\n",
    "tokens = []\n",
    "for talk in df:\n",
    "    doc = nlp(talk)\n",
    "    words = []\n",
    "    for w in doc:\n",
    "        if w.text.isalpha():\n",
    "            words.append(w.text.lower())\n",
    "    words = list(set(words))\n",
    "    tokens.append(words)\n",
    "print(len(tokens))"
   ]
  },
  {
   "cell_type": "code",
   "execution_count": 11,
   "metadata": {},
   "outputs": [],
   "source": [
    "# save TED transcript unique tokens to file\n",
    "with open('TED_transcript_tokens.npy', 'wb') as f:\n",
    "    np.save(f, np.array(tokens, dtype=object))"
   ]
  },
  {
   "cell_type": "code",
   "execution_count": 12,
   "metadata": {},
   "outputs": [],
   "source": [
    "# load saved file\n",
    "tokens = np.load('TED_transcript_tokens.npy', allow_pickle=True)"
   ]
  },
  {
   "cell_type": "code",
   "execution_count": 13,
   "metadata": {},
   "outputs": [
    {
     "data": {
      "text/plain": [
       "56989"
      ]
     },
     "execution_count": 13,
     "metadata": {},
     "output_type": "execute_result"
    }
   ],
   "source": [
    "# set of unique words among all of the test set\n",
    "test_words = []\n",
    "for l in tokens:\n",
    "    test_words.extend(l)\n",
    "test_words = list(dict.fromkeys(test_words))\n",
    "len(test_words)"
   ]
  },
  {
   "cell_type": "code",
   "execution_count": 14,
   "metadata": {},
   "outputs": [],
   "source": [
    "# returns 1 if word is difficult to say 0 otherwise\n",
    "# here, we have simulated 5 different users so output will be different for each user\n",
    "def oracle(word, user):\n",
    "    if user==0:   # starting with a consonant and then followed by the r sound\n",
    "        pattern = \"^([b-df-hj-np-tv-z])r.*\"\n",
    "    elif user==1:  # starting with st or fl\n",
    "        pattern = \"^(st|fl).*\"\n",
    "    elif user==2:  # r or l letter at second place\n",
    "        pattern = \".{1}[r|l].*\"\n",
    "    elif user==3:  # anywhere in the word - ch or sc\n",
    "        pattern = \".*(ch|sc).*\" \n",
    "    elif user==4:  # starting with B,P,D,M,N, and F \n",
    "        pattern = \"^[bpdmnf].*\"\n",
    "    elif user==5:   # user0 + user4\n",
    "        pattern = \"^([b-df-hj-np-tv-z])r.*\" + \"|\" + \"^[bpdmnf].*\"\n",
    "    elif user==6:  # user1 + user3\n",
    "        pattern = \"^(st|fl).*\" + \"|\" + \".*(ch|sc).*\"\n",
    "    elif user==7:  # user2 + user4\n",
    "        pattern = \".{1}[r|l].*\" + \"|\" + \"^[bpdmnf].*\"\n",
    "    elif user==8:  # user0 + user3 + user4\n",
    "        pattern = \"^([b-df-hj-np-tv-z])r.*\" +\"|\"+ \".*(ch|sc).*\" + \"|\" + \"^[bpdmnf].*\"\n",
    "    elif user==9:  # user1 + user2 + user3 \n",
    "        pattern = \"^(st|fl).*\" + \"|\" + \".{1}[r|l].*\" + \"|\" + \".*(ch|sc).*\"\n",
    "    m = re.match(pattern, word)\n",
    "    if m:\n",
    "        start, stop = m.span()\n",
    "        if stop-start == len(word):\n",
    "            return 1\n",
    "    return 0"
   ]
  },
  {
   "cell_type": "code",
   "execution_count": 64,
   "metadata": {},
   "outputs": [
    {
     "data": {
      "text/plain": [
       "0"
      ]
     },
     "execution_count": 64,
     "metadata": {},
     "output_type": "execute_result"
    }
   ],
   "source": [
    "oracle(\"pikacu\", 9)"
   ]
  },
  {
   "cell_type": "code",
   "execution_count": 24,
   "metadata": {},
   "outputs": [
    {
     "data": {
      "text/plain": [
       "0"
      ]
     },
     "execution_count": 24,
     "metadata": {},
     "output_type": "execute_result"
    }
   ],
   "source": [
    "oracle(\"school\", 1)"
   ]
  },
  {
   "cell_type": "code",
   "execution_count": 25,
   "metadata": {},
   "outputs": [],
   "source": [
    "def random_sampling(X_unlab, seed):\n",
    "    random.seed(seed)\n",
    "    return random.choice(X_unlab)"
   ]
  },
  {
   "cell_type": "code",
   "execution_count": 26,
   "metadata": {},
   "outputs": [],
   "source": [
    "# returns the next most uncertain word by entropy\n",
    "# @input: clf - classifier, X_unlab - list of words\n",
    "def uncertainity_sampling(clf, X_unlab):\n",
    "    X_unlab = [w for w in X_unlab if w.upper() in lookup]\n",
    "    X = [lookup[w.upper()] for w in X_unlab]\n",
    "    prob = clf.predict_proba(X)\n",
    "    ent = entropy(prob.T)\n",
    "    sorted_ind = (-ent).argsort()[0]\n",
    "    return X_unlab[sorted_ind]\n",
    "\n",
    "def clf_predict(clf, words):\n",
    "    pred = []\n",
    "    for w in words:\n",
    "        w = w.upper()\n",
    "        if w not in lookup:\n",
    "            pred.append(0)\n",
    "        else:\n",
    "            pred.append(clf.predict([lookup[w]])[0])\n",
    "    return pred\n",
    "\n",
    "# fit function because not all words are available in lookup\n",
    "def clf_fit(words, label):\n",
    "    X, y = [], []\n",
    "    for w,l in zip(words, label):\n",
    "        w = w.upper()\n",
    "        if w in lookup:\n",
    "            X.append(lookup[w])\n",
    "            y.append(l)\n",
    "    clf = svm.SVC(probability=True, random_state=0)\n",
    "    clf.fit(X, y)\n",
    "    return clf"
   ]
  },
  {
   "cell_type": "code",
   "execution_count": 27,
   "metadata": {},
   "outputs": [],
   "source": [
    "# for a given trained classifier - computes different metrics on the test set\n",
    "def evaluate(clf, X_test, y_test):\n",
    "    y_pred = clf_predict(clf, X_test)\n",
    "    pre = precision_score(y_test, y_pred, zero_division=0)*100\n",
    "    acc = accuracy_score(y_test, y_pred)*100\n",
    "    f1 = f1_score(y_test, y_pred)*100\n",
    "    recall = recall_score(y_test, y_pred)*100\n",
    "    #print(round(f1,2), \"   \",round(acc,2), \"    \",round(pre,2))\n",
    "    return {\"precision\":pre, \"accuracy\":acc, \"f1\":f1, \"recall\":recall}"
   ]
  },
  {
   "cell_type": "code",
   "execution_count": 47,
   "metadata": {},
   "outputs": [],
   "source": [
    "def initial_split(i):\n",
    "    easy, diff = [], []\n",
    "    #easy = ['a', 'an', 'he', 'she', 'be', 'the', 'cat', 'dog', 'bat', 'mat', 'rat']\n",
    "    if i==0:   # r sound at second place\n",
    "        #print(\"consonant followed by r sound\")\n",
    "        easy = ['clock', 'regular', 'water', 'made']\n",
    "        diff = ['graph', 'group', 'green', 'grand']\n",
    "    elif i==1: # st or fl sound to begin\n",
    "        #print(\"st or fl sound to begin\")\n",
    "        easy = ['the', 'cat', 'dog', 'bat']\n",
    "        diff = ['street', 'florida', 'straight', 'stutter']\n",
    "    elif i==2:     # r or l letter at second place\n",
    "        #print(\"r or l letter at second place\")\n",
    "        easy = ['about', 'people', 'day', 'other']\n",
    "        diff = ['crisp', 'crumble', 'alaska', 'close']\n",
    "    elif i==3:   # ch or sc sound anywhere in the word\n",
    "        #print(\"sc or ch sound anywhere in the word\")\n",
    "        easy = ['book', 'table', 'cat', 'shirt']\n",
    "        diff = ['scold', 'chair', 'beach', 'chase']\n",
    "    elif i==4:  # words starting with B,P,D,M,N, and F\n",
    "        #print(\"words starting with B,P,D,M,N, and F\")\n",
    "        easy = ['horse', 'house', 'group', 'actor']\n",
    "        diff = ['packet', 'more', 'nostalgia', 'fish']\n",
    "    elif i==5:   # user0 + user4\n",
    "        #print(\"consonant followed by r sound +  words starting with B,P,D,M,N, and F\")\n",
    "        easy = ['racket', 'choice', 'egg', 'active']\n",
    "        diff = ['crime', 'provost', 'post', 'dragon']\n",
    "    elif i==6: # user1 + user3\n",
    "        #print(\"st or fl sound to begin +  sc or ch sound anywhere in the word\")\n",
    "        easy = ['packet', 'more', 'nostalgia', 'fish']\n",
    "        diff = ['flood', 'scandal', 'stay', 'choke']\n",
    "    elif i==7:     # user2 + user4\n",
    "        #print(\"r or l letter at second place  +  words starting with B,P,D,M,N, and F\")\n",
    "        easy = ['cook', 'table', 'cat', 'she']\n",
    "        diff = ['graph', 'alcohol', 'ball','market']\n",
    "    elif i==8:   # user0 + user3 + user4\n",
    "        #print(\"consonant followed by r sound + sc or ch sound anywhere + starting with B,P,D,M,N, and F\")\n",
    "        easy = ['rational', 'recommend', 'circle', 'gang']\n",
    "        diff = ['scam', 'grand', 'match', 'cheese']\n",
    "    elif i==9:  # user1 + user2 + user3 \n",
    "        #print(\"st or fl sound to begin + r or l letter at second place + sc or ch sound anywhere in the word\")\n",
    "        easy = ['beauty', 'pen', 'dish', 'govern']\n",
    "        diff = ['match', 'scam', 'alcohol', 'scold']\n",
    "    #diff = ['graph', 'group', 'trivedi', 'green', 'grand', 'provost', 'crisp', 'grey', 'grill', 'crumble']\n",
    "\n",
    "    X_lab = easy + diff\n",
    "    y_lab = [0]*len(easy) + [1]*len(diff)\n",
    "\n",
    "    X_rem = list(set(test_words) - set(X_lab))\n",
    "\n",
    "    test_size = int(len(X_rem)*0.25)\n",
    "    \n",
    "    X_test = X_rem[len(X_rem)-test_size:]\n",
    "    y_test = [oracle(w, i) for w in X_test]\n",
    "    \n",
    "    X_unlab = X_rem[:len(X_rem)-test_size]\n",
    "    X_train = X_lab + X_unlab\n",
    "\n",
    "    #print(len(X_lab), len(X_unlab), len(X_train), len(X_test))\n",
    "    \n",
    "    return X_lab, y_lab, X_unlab, X_test, y_test"
   ]
  },
  {
   "cell_type": "code",
   "execution_count": 48,
   "metadata": {},
   "outputs": [
    {
     "name": "stdout",
     "output_type": "stream",
     "text": [
      "0\n",
      "1\n",
      "2\n",
      "3\n",
      "4\n",
      "5\n",
      "6\n",
      "7\n",
      "8\n",
      "9\n"
     ]
    }
   ],
   "source": [
    "# check if all seed words exist in phonetic dictionary\n",
    "# and they are assigned correct labels\n",
    "for i in range(10):\n",
    "    print(i)\n",
    "    word, y_label = initial_split(i)[0], initial_split(i)[1]\n",
    "    for w in word:\n",
    "        if w.upper() not in lookup:\n",
    "            print(w + \" NOT PRESENT\")\n",
    "    \n",
    "    if y_label != [0, 0, 0, 0, 1, 1, 1, 1]:\n",
    "        print(\"Label not matching for user: \",i)"
   ]
  },
  {
   "cell_type": "code",
   "execution_count": 70,
   "metadata": {},
   "outputs": [],
   "source": [
    "# get most suitable alterantive for word which user can speak\n",
    "def get_alternative(word, user_id):\n",
    "    response = requests.get(\"https://api.datamuse.com/words?ml=\"+word)\n",
    "    for l in response.json():\n",
    "        s = l[\"word\"] \n",
    "        if s.upper() in lookup and oracle(s, user_id)==0:\n",
    "            return s\n",
    "    return \"\""
   ]
  },
  {
   "cell_type": "code",
   "execution_count": 68,
   "metadata": {},
   "outputs": [
    {
     "data": {
      "text/plain": [
       "'barcelona'"
      ]
     },
     "execution_count": 68,
     "metadata": {},
     "output_type": "execute_result"
    }
   ],
   "source": [
    "get_alternative(\"alaska\", 2)"
   ]
  },
  {
   "cell_type": "code",
   "execution_count": 71,
   "metadata": {},
   "outputs": [
    {
     "data": {
      "text/plain": [
       "''"
      ]
     },
     "execution_count": 71,
     "metadata": {},
     "output_type": "execute_result"
    }
   ],
   "source": [
    "get_alternative(\"rocketcam\", 0)"
   ]
  },
  {
   "cell_type": "code",
   "execution_count": 73,
   "metadata": {},
   "outputs": [
    {
     "name": "stdout",
     "output_type": "stream",
     "text": [
      "Round  0\n",
      "******    exp    ********\n",
      "Query:  1  word:  humiliating   label:  0\n",
      "Query:  2  word:  draw   label:  1\n",
      "******    imp    ********\n",
      "Query:  1  word:  humiliating   label:  0\n",
      "Query:  2  word:  rocketcam   label:  0\n",
      "******    ran    ********\n",
      "Query:  1  word:  bourgeoise   label:  0\n",
      "Query:  2  word:  north   label:  0\n",
      "Round  1\n",
      "******    exp    ********\n",
      "Query:  1  word:  humberto   label:  0\n",
      "Query:  2  word:  deluged   label:  0\n",
      "******    imp    ********\n",
      "Query:  1  word:  humiliating   label:  0\n",
      "Query:  2  word:  rocketcam   label:  0\n",
      "******    ran    ********\n",
      "Query:  1  word:  misjudgments   label:  0\n",
      "Query:  2  word:  hyped   label:  0\n",
      "Round  2\n",
      "******    exp    ********\n",
      "Query:  1  word:  lucy   label:  0\n",
      "Query:  2  word:  expressed   label:  0\n",
      "******    imp    ********\n",
      "Query:  1  word:  humiliating   label:  0\n",
      "Query:  2  word:  rocketcam   label:  0\n",
      "******    ran    ********\n",
      "Query:  1  word:  abolitionism   label:  0\n",
      "Query:  2  word:  imminent   label:  0\n",
      "Round  3\n",
      "******    exp    ********\n",
      "Query:  1  word:  casper   label:  0\n",
      "Query:  2  word:  holstein   label:  0\n",
      "******    imp    ********\n",
      "Query:  1  word:  humiliating   label:  0\n",
      "Query:  2  word:  rocketcam   label:  0\n",
      "******    ran    ********\n",
      "Query:  1  word:  bourgeoise   label:  0\n",
      "Query:  2  word:  sir   label:  0\n",
      "Round  4\n",
      "******    exp    ********\n",
      "Query:  1  word:  colonel   label:  0\n",
      "Query:  2  word:  intro   label:  0\n",
      "******    imp    ********\n",
      "Query:  1  word:  humiliating   label:  0\n",
      "Query:  2  word:  rocketcam   label:  0\n",
      "******    ran    ********\n",
      "Query:  1  word:  bourgeoise   label:  1\n",
      "Query:  2  word:  quits   label:  0\n",
      "Round  5\n",
      "******    exp    ********\n",
      "Query:  1  word:  bitsy   label:  1\n",
      "Query:  2  word:  twists   label:  0\n",
      "******    imp    ********\n",
      "Query:  1  word:  humiliating   label:  0\n",
      "Query:  2  word:  rocketcam   label:  0\n",
      "******    ran    ********\n",
      "Query:  1  word:  cnn   label:  0\n",
      "Query:  2  word:  blankly   label:  1\n",
      "Round  6\n",
      "******    exp    ********\n",
      "Query:  1  word:  wagging   label:  0\n",
      "Query:  2  word:  humiliating   label:  0\n",
      "******    imp    ********\n",
      "Query:  1  word:  humiliating   label:  0\n",
      "Query:  2  word:  rocketcam   label:  0\n",
      "******    ran    ********\n",
      "Query:  1  word:  misjudgments   label:  0\n",
      "Query:  2  word:  mythologists   label:  0\n",
      "Round  7\n",
      "******    exp    ********\n",
      "Query:  1  word:  cranking   label:  1\n",
      "Query:  2  word:  cooke   label:  0\n",
      "******    imp    ********\n",
      "Query:  1  word:  humiliating   label:  0\n",
      "Query:  2  word:  rocketcam   label:  0\n",
      "******    ran    ********\n",
      "Query:  1  word:  abolitionism   label:  0\n",
      "Query:  2  word:  splice   label:  0\n",
      "Round  8\n",
      "******    exp    ********\n",
      "Query:  1  word:  prevents   label:  1\n",
      "Query:  2  word:  grisly   label:  1\n",
      "******    imp    ********\n",
      "Query:  1  word:  humiliating   label:  0\n",
      "Query:  2  word:  rocketcam   label:  0\n",
      "******    ran    ********\n",
      "Query:  1  word:  misjudgments   label:  1\n",
      "Query:  2  word:  exhibits   label:  0\n",
      "Round  9\n",
      "******    exp    ********\n",
      "Query:  1  word:  sherwin   label:  0\n",
      "Query:  2  word:  elaborately   label:  1\n",
      "******    imp    ********\n",
      "Query:  1  word:  humiliating   label:  0\n",
      "Query:  2  word:  rocketcam   label:  0\n",
      "******    ran    ********\n",
      "Query:  1  word:  bourgeoise   label:  0\n",
      "Query:  2  word:  dyslexia   label:  0\n"
     ]
    }
   ],
   "source": [
    "res = {\"imp\":[], \"exp\":[], \"ran\":[]} \n",
    "\n",
    "number_of_queries = 2 #1000\n",
    "rounds = 10\n",
    "\n",
    "for r in range(rounds):\n",
    "    print(\"\\n\\nRound \", r)\n",
    "    for strategy in [\"exp\",\"imp\",\"ran\"]:\n",
    "        X_lab, y_lab, X_unlab, X_test, y_test = initial_split(r)\n",
    "        model = clf_fit(X_lab, y_lab)\n",
    "        #res[strategy][r] = []\n",
    "        res[strategy].append(evaluate(model, X_test, y_test))\n",
    "        print(\"******    \"+strategy+\"    ********\")\n",
    "\n",
    "        for i in range(number_of_queries):\n",
    "                q = []\n",
    "                if strategy==\"imp\":\n",
    "                    # adding the next word and its suitable alternative\n",
    "                    q.append(X_unlab[0])\n",
    "                    alter = get_alternative(X_unlab[0], r)\n",
    "                    if len(alter)>0:\n",
    "                        q.append(alter)\n",
    "                elif strategy==\"exp\":\n",
    "                    q.append(uncertainity_sampling(model, X_unlab))\n",
    "                elif strategy==\"ran\":\n",
    "                    q.append(random_sampling(X_unlab, r*i))\n",
    "                \n",
    "                X_lab.extend(q)\n",
    "                # for each word in q, append its label\n",
    "                for t in q:  \n",
    "                    y_lab.append(oracle(t, r))\n",
    "                 \n",
    "                X_unlab = list(set(X_unlab)-set(q))\n",
    "                model = clf_fit(X_lab, y_lab)\n",
    "                print(\"Query: \", i+1, \" word: \", q[0], \"  label: \",oracle(q[0], r))\n",
    "                res[strategy].append(evaluate(model, X_test, y_test))    "
   ]
  },
  {
   "cell_type": "code",
   "execution_count": 74,
   "metadata": {},
   "outputs": [],
   "source": [
    "d1 = pd.DataFrame(res[\"imp\"])\n",
    "split_df = np.mean(np.vsplit(d1, rounds), axis=0)\n",
    "d1 = pd.DataFrame.from_records(split_df, columns=[\"precision\", \"accuracy\", \"f1\", \"recall\"])\n",
    "\n",
    "d2 = pd.DataFrame(res[\"exp\"])\n",
    "split_df = np.mean(np.vsplit(d2, rounds), axis=0)\n",
    "d2 = pd.DataFrame.from_records(split_df, columns=[\"precision\", \"accuracy\", \"f1\", \"recall\"])\n",
    "\n",
    "d3 = pd.DataFrame(res[\"ran\"])\n",
    "split_df = np.mean(np.vsplit(d3, rounds), axis=0)\n",
    "d3 = pd.DataFrame.from_records(split_df, columns=[\"precision\", \"accuracy\", \"f1\", \"recall\"])"
   ]
  },
  {
   "cell_type": "code",
   "execution_count": 75,
   "metadata": {},
   "outputs": [
    {
     "data": {
      "text/plain": [
       "79.94524394524394"
      ]
     },
     "execution_count": 75,
     "metadata": {},
     "output_type": "execute_result"
    }
   ],
   "source": [
    "base_acc = []\n",
    "for r in range(rounds):\n",
    "    X_lab, y_lab, X_unlab, X_test, y_test = initial_split(r)\n",
    "    base_acc.append(np.sum([1 for x in y_test if x==0])/len(y_test)*100)\n",
    "np.mean(base_acc)"
   ]
  },
  {
   "cell_type": "code",
   "execution_count": 77,
   "metadata": {},
   "outputs": [
    {
     "data": {
      "text/plain": [
       "<matplotlib.legend.Legend at 0x7fdd109e9ca0>"
      ]
     },
     "execution_count": 77,
     "metadata": {},
     "output_type": "execute_result"
    },
    {
     "data": {
      "image/png": "[encoded data removed]",
      "text/plain": [
       "<Figure size 432x288 with 1 Axes>"
      ]
     },
     "metadata": {
      "needs_background": "light"
     },
     "output_type": "display_data"
    }
   ],
   "source": [
    "plt.rcParams.update({'font.size': 15})\n",
    "d1[\"f1\"].plot(linewidth=2, label=\"Implicit\")\n",
    "d2[\"f1\"].plot(linewidth=2, label=\"Explicit\")\n",
    "d3[\"f1\"].plot(linewidth=2, label=\"random\")\n",
    "#pd.Series([21.42]*(number_of_queries+1)).plot(linewidth=2, label=\"baseline\")\n",
    "plt.ylabel(\"F1 score\")\n",
    "plt.xlabel(\"Number of Interactions\")\n",
    "plt.legend(loc=(0.5,0.45))\n",
    "#plt.savefig('f1_score3.png', bbox_inches='tight',pad_inches = 0.1, dpi = 600)"
   ]
  },
  {
   "cell_type": "code",
   "execution_count": 79,
   "metadata": {},
   "outputs": [
    {
     "data": {
      "text/plain": [
       "<matplotlib.legend.Legend at 0x7fdd0ff12580>"
      ]
     },
     "execution_count": 79,
     "metadata": {},
     "output_type": "execute_result"
    },
    {
     "data": {
      "image/png": "[encoded data removed]",
      "text/plain": [
       "<Figure size 432x288 with 1 Axes>"
      ]
     },
     "metadata": {
      "needs_background": "light"
     },
     "output_type": "display_data"
    }
   ],
   "source": [
    "d1[\"accuracy\"].plot(linewidth=2, label=\"Implicit\")\n",
    "d2[\"accuracy\"].plot(linewidth=2, label=\"Explicit\")\n",
    "d3[\"accuracy\"].plot(linewidth=2, label=\"random\")\n",
    "plt.ylabel(\"Accuracy\")\n",
    "plt.xlabel(\"Number of Interactions\")\n",
    "plt.legend()\n",
    "#plt.savefig('accuracy3.png', bbox_inches='tight',pad_inches = 0.1, dpi = 600)"
   ]
  },
  {
   "cell_type": "code",
   "execution_count": 80,
   "metadata": {},
   "outputs": [
    {
     "data": {
      "text/plain": [
       "<matplotlib.legend.Legend at 0x7fdd0f734c10>"
      ]
     },
     "execution_count": 80,
     "metadata": {},
     "output_type": "execute_result"
    },
    {
     "data": {
      "image/png": "[encoded data removed]",
      "text/plain": [
       "<Figure size 432x288 with 1 Axes>"
      ]
     },
     "metadata": {
      "needs_background": "light"
     },
     "output_type": "display_data"
    }
   ],
   "source": [
    "d1[\"precision\"].plot(linewidth=2, label=\"Implicit\")\n",
    "d2[\"precision\"].plot(linewidth=2, label=\"Explicit\")\n",
    "d3[\"precision\"].plot(linewidth=2, label=\"random\")\n",
    "plt.ylabel(\"Precision\")\n",
    "plt.xlabel(\"Number of Interactions\")\n",
    "plt.legend()\n",
    "#plt.savefig('precision3.png', bbox_inches='tight',pad_inches = 0.1, dpi = 600)"
   ]
  },
  {
   "cell_type": "code",
   "execution_count": 81,
   "metadata": {},
   "outputs": [
    {
     "data": {
      "text/plain": [
       "<matplotlib.legend.Legend at 0x7fdd10603220>"
      ]
     },
     "execution_count": 81,
     "metadata": {},
     "output_type": "execute_result"
    },
    {
     "data": {
      "image/png": "[encoded data removed]",
      "text/plain": [
       "<Figure size 432x288 with 1 Axes>"
      ]
     },
     "metadata": {
      "needs_background": "light"
     },
     "output_type": "display_data"
    }
   ],
   "source": [
    "d1[\"recall\"].plot(linewidth=2, label=\"Implicit\")\n",
    "d2[\"recall\"].plot(linewidth=2, label=\"Explicit\")\n",
    "plt.ylabel(\"Recall\")\n",
    "plt.xlabel(\"Number of Interactions\")\n",
    "plt.legend()"
   ]
  },
  {
   "cell_type": "code",
   "execution_count": 223,
   "metadata": {},
   "outputs": [
    {
     "name": "stdout",
     "output_type": "stream",
     "text": [
      "a 0\n",
      "an 0\n",
      "he 0\n",
      "she 0\n",
      "be 0\n",
      "the 0\n",
      "cat 0\n",
      "dog 0\n",
      "bat 0\n",
      "mat 0\n",
      "rat 0\n",
      "graph 1\n",
      "group 1\n",
      "trivedi 1\n",
      "green 1\n",
      "grand 1\n",
      "provost 1\n",
      "crisp 1\n",
      "grey 1\n",
      "grill 1\n",
      "crumble 1\n",
      "torpor 0\n",
      "dragon 1\n",
      "globs 0\n",
      "backgrounds 0\n",
      "pioneered 0\n",
      "premonition 1\n",
      "scrubbed 0\n",
      "prospectus 1\n",
      "gravitate 1\n",
      "torque 0\n",
      "brother 1\n",
      "screwdriver 0\n",
      "bluebeard 0\n",
      "granddaughters 1\n",
      "blinds 0\n",
      "trivialize 1\n",
      "blas 0\n",
      "predate 1\n",
      "greenbelt 1\n",
      "trends 1\n",
      "carpenter 0\n",
      "primarily 1\n",
      "freight 1\n",
      "frate 1\n",
      "breakers 1\n",
      "positron 0\n",
      "promptly 1\n",
      "carburetor 0\n",
      "brainpower 1\n",
      "drama 1\n",
      "griscom 1\n",
      "grimmest 1\n",
      "predominant 1\n",
      "pretending 1\n",
      "lohengrin 0\n",
      "sprinkler 0\n",
      "transition 1\n",
      "christiana 0\n",
      "grossed 1\n",
      "bizarre 0\n",
      "profanity 1\n",
      "plumbed 0\n",
      "bro 1\n",
      "tremors 1\n",
      "shrug 0\n",
      "bernhardt 0\n",
      "cambrian 0\n",
      "geriatric 0\n",
      "quasar 0\n",
      "printable 1\n",
      "traitor 1\n",
      "trailer 1\n",
      "preschool 1\n",
      "denmark 0\n",
      "creature 1\n",
      "breastplate 1\n",
      "gravestone 1\n",
      "preserving 1\n",
      "ozarks 0\n",
      "protruding 1\n",
      "kristin 1\n",
      "prophetic 1\n",
      "brunet 1\n",
      "brunette 1\n",
      "drool 1\n",
      "predators 1\n",
      "groove 1\n",
      "crier 1\n",
      "procedures 1\n",
      "protestors 1\n",
      "protesters 1\n",
      "cranky 1\n",
      "blindness 0\n",
      "darkly 0\n",
      "clarke 0\n",
      "clark 0\n",
      "presiding 1\n",
      "breeders 1\n",
      "prepares 1\n",
      "scratching 0\n",
      "cerebral 0\n",
      "confront 0\n",
      "forthright 0\n",
      "gresham 1\n",
      "pretends 1\n",
      "preferable 1\n",
      "dressings 1\n",
      "tricia 1\n",
      "frontline 1\n",
      "problematic 1\n",
      "grenades 1\n",
      "tracer 1\n",
      "vertebra 0\n",
      "frame 1\n",
      "profane 1\n",
      "prove 1\n",
      "scram 0\n",
      "creeping 1\n",
      "breadbasket 1\n",
      "trachea 1\n"
     ]
    }
   ],
   "source": [
    "for x,y in zip(X_lab, y_lab):\n",
    "    print(x,y)"
   ]
  },
  {
   "cell_type": "code",
   "execution_count": 224,
   "metadata": {},
   "outputs": [
    {
     "data": {
      "text/plain": [
       "(121, 121)"
      ]
     },
     "execution_count": 224,
     "metadata": {},
     "output_type": "execute_result"
    }
   ],
   "source": [
    "len(X_lab), len(y_lab)"
   ]
  },
  {
   "cell_type": "code",
   "execution_count": 225,
   "metadata": {},
   "outputs": [
    {
     "data": {
      "text/plain": [
       "1"
      ]
     },
     "execution_count": 225,
     "metadata": {},
     "output_type": "execute_result"
    }
   ],
   "source": [
    "clf.predict([lookup[\"BREW\"]])[0]"
   ]
  },
  {
   "cell_type": "code",
   "execution_count": 192,
   "metadata": {},
   "outputs": [
    {
     "data": {
      "text/plain": [
       "1"
      ]
     },
     "execution_count": 192,
     "metadata": {},
     "output_type": "execute_result"
    }
   ],
   "source": [
    "oracle(\"trpor\",0)"
   ]
  },
  {
   "cell_type": "code",
   "execution_count": 193,
   "metadata": {},
   "outputs": [
    {
     "data": {
      "text/plain": [
       "0.21428571428571425"
      ]
     },
     "execution_count": 193,
     "metadata": {},
     "output_type": "execute_result"
    }
   ],
   "source": [
    "(2*0.12*1)/(1+0.12)"
   ]
  },
  {
   "cell_type": "code",
   "execution_count": 233,
   "metadata": {},
   "outputs": [
    {
     "name": "stdout",
     "output_type": "stream",
     "text": [
      "False\n",
      "False\n"
     ]
    }
   ],
   "source": [
    "str1 = \"this7\";  # No space & digit in this string\n",
    "print(str1.isalpha()) # it gives return True\n",
    "\n",
    "str2 = \"this is 2\";\n",
    "print(str2.isalpha()) # it gives return False"
   ]
  },
  {
   "cell_type": "code",
   "execution_count": null,
   "metadata": {},
   "outputs": [],
   "source": []
  }
 ],
 "metadata": {
  "kernelspec": {
   "display_name": "Python [conda env:semantic] *",
   "language": "python",
   "name": "conda-env-semantic-py"
  },
  "language_info": {
   "codemirror_mode": {
    "name": "ipython",
    "version": 3
   },
   "file_extension": ".py",
   "mimetype": "text/x-python",
   "name": "python",
   "nbconvert_exporter": "python",
   "pygments_lexer": "ipython3",
   "version": "3.8.6"
  }
 },
 "nbformat": 4,
 "nbformat_minor": 2
}
